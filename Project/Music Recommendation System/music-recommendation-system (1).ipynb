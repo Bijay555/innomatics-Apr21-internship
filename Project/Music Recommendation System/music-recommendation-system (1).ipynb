{
 "cells": [
  {
   "cell_type": "markdown",
   "metadata": {},
   "source": [
    "## Dataset Information\n",
    "\n",
    "Million Songs Dataset contains of two files: triplet_file and metadata_file. The triplet_file contains user_id, song_id and listen time. The metadata_file contains song_id, title, release, year and artist_name. Million Songs Dataset is a mixture of song from various website with the rating that users gave after listening to the song.\n",
    "\n",
    "There are 3 types of recommendation system: content-based, collaborative and popularity."
   ]
  },
  {
   "cell_type": "markdown",
   "metadata": {},
   "source": [
    "## Import modules"
   ]
  },
  {
   "cell_type": "code",
   "execution_count": 1,
   "metadata": {
    "execution": {
     "iopub.execute_input": "2021-06-20T16:45:33.248837Z",
     "iopub.status.busy": "2021-06-20T16:45:33.248476Z",
     "iopub.status.idle": "2021-06-20T16:45:33.272436Z",
     "shell.execute_reply": "2021-06-20T16:45:33.271425Z",
     "shell.execute_reply.started": "2021-06-20T16:45:33.248758Z"
    }
   },
   "outputs": [
    {
     "name": "stdout",
     "output_type": "stream",
     "text": [
      "/kaggle/input/innomatics-music-recom/kaggle_songs.txt\n",
      "/kaggle/input/innomatics-music-recom/unique_tracks.txt\n",
      "/kaggle/input/innomatics-music-recom/taste_profile_song_to_tracks.txt\n",
      "/kaggle/input/innomatics-music-recom/kaggle_users.txt\n",
      "/kaggle/input/innomatics-music-recom/kaggle_visible_evaluation_triplets.txt\n",
      "/kaggle/usr/lib/recommenders_py/recommenders_py.py\n"
     ]
    }
   ],
   "source": [
    "# This Python 3 environment comes with many helpful analytics libraries installed\n",
    "# It is defined by the kaggle/python docker image: https://github.com/kaggle/docker-python\n",
    "# For example, here's several helpful packages to load in \n",
    "\n",
    "import numpy as np # linear algebra\n",
    "import pandas as pd # data processing, CSV file I/O (e.g. pd.read_csv)\n",
    "\n",
    "# Input data files are available in the \"../input/\" directory.\n",
    "# For example, running this (by clicking run or pressing Shift+Enter) will list all files under the input directory\n",
    "\n",
    "import os\n",
    "for dirname, _, filenames in os.walk('/kaggle/input'):\n",
    "    for filename in filenames:\n",
    "        print(os.path.join(dirname, filename))\n",
    "        \n",
    "for dirname, _, filenames in os.walk('/kaggle/usr/lib'):\n",
    "    for filename in filenames:\n",
    "        print(os.path.join(dirname, filename))\n",
    "\n",
    "# Any results you write to the current directory are saved as output."
   ]
  },
  {
   "cell_type": "code",
   "execution_count": 2,
   "metadata": {
    "execution": {
     "iopub.execute_input": "2021-06-20T16:45:33.274318Z",
     "iopub.status.busy": "2021-06-20T16:45:33.273958Z",
     "iopub.status.idle": "2021-06-20T16:45:33.281532Z",
     "shell.execute_reply": "2021-06-20T16:45:33.280771Z",
     "shell.execute_reply.started": "2021-06-20T16:45:33.274283Z"
    }
   },
   "outputs": [],
   "source": [
    "import pandas as pd\n",
    "import numpy as np\n",
    "from recommenders_py import recommenders_py as Recommenders"
   ]
  },
  {
   "cell_type": "code",
   "execution_count": null,
   "metadata": {},
   "outputs": [],
   "source": []
  },
  {
   "cell_type": "markdown",
   "metadata": {},
   "source": [
    "## Loading the dataset"
   ]
  },
  {
   "cell_type": "code",
   "execution_count": 3,
   "metadata": {
    "execution": {
     "iopub.execute_input": "2021-06-20T16:45:33.283601Z",
     "iopub.status.busy": "2021-06-20T16:45:33.283245Z",
     "iopub.status.idle": "2021-06-20T16:45:35.034146Z",
     "shell.execute_reply": "2021-06-20T16:45:35.033291Z",
     "shell.execute_reply.started": "2021-06-20T16:45:33.283568Z"
    }
   },
   "outputs": [
    {
     "data": {
      "text/html": [
       "<div>\n",
       "<style scoped>\n",
       "    .dataframe tbody tr th:only-of-type {\n",
       "        vertical-align: middle;\n",
       "    }\n",
       "\n",
       "    .dataframe tbody tr th {\n",
       "        vertical-align: top;\n",
       "    }\n",
       "\n",
       "    .dataframe thead th {\n",
       "        text-align: right;\n",
       "    }\n",
       "</style>\n",
       "<table border=\"1\" class=\"dataframe\">\n",
       "  <thead>\n",
       "    <tr style=\"text-align: right;\">\n",
       "      <th></th>\n",
       "      <th>user_id</th>\n",
       "      <th>song_id</th>\n",
       "      <th>listen_count</th>\n",
       "    </tr>\n",
       "  </thead>\n",
       "  <tbody>\n",
       "    <tr>\n",
       "      <th>0</th>\n",
       "      <td>fd50c4007b68a3737fe052d5a4f78ce8aa117f3d</td>\n",
       "      <td>SOBONKR12A58A7A7E0</td>\n",
       "      <td>1</td>\n",
       "    </tr>\n",
       "    <tr>\n",
       "      <th>1</th>\n",
       "      <td>fd50c4007b68a3737fe052d5a4f78ce8aa117f3d</td>\n",
       "      <td>SOEGIYH12A6D4FC0E3</td>\n",
       "      <td>1</td>\n",
       "    </tr>\n",
       "    <tr>\n",
       "      <th>2</th>\n",
       "      <td>fd50c4007b68a3737fe052d5a4f78ce8aa117f3d</td>\n",
       "      <td>SOFLJQZ12A6D4FADA6</td>\n",
       "      <td>1</td>\n",
       "    </tr>\n",
       "    <tr>\n",
       "      <th>3</th>\n",
       "      <td>fd50c4007b68a3737fe052d5a4f78ce8aa117f3d</td>\n",
       "      <td>SOHTKMO12AB01843B0</td>\n",
       "      <td>1</td>\n",
       "    </tr>\n",
       "    <tr>\n",
       "      <th>4</th>\n",
       "      <td>fd50c4007b68a3737fe052d5a4f78ce8aa117f3d</td>\n",
       "      <td>SODQZCY12A6D4F9D11</td>\n",
       "      <td>1</td>\n",
       "    </tr>\n",
       "  </tbody>\n",
       "</table>\n",
       "</div>"
      ],
      "text/plain": [
       "                                    user_id             song_id  listen_count\n",
       "0  fd50c4007b68a3737fe052d5a4f78ce8aa117f3d  SOBONKR12A58A7A7E0             1\n",
       "1  fd50c4007b68a3737fe052d5a4f78ce8aa117f3d  SOEGIYH12A6D4FC0E3             1\n",
       "2  fd50c4007b68a3737fe052d5a4f78ce8aa117f3d  SOFLJQZ12A6D4FADA6             1\n",
       "3  fd50c4007b68a3737fe052d5a4f78ce8aa117f3d  SOHTKMO12AB01843B0             1\n",
       "4  fd50c4007b68a3737fe052d5a4f78ce8aa117f3d  SODQZCY12A6D4F9D11             1"
      ]
     },
     "execution_count": 3,
     "metadata": {},
     "output_type": "execute_result"
    }
   ],
   "source": [
    "song_df_1 = pd.read_csv('../input/innomatics-music-recom/kaggle_visible_evaluation_triplets.txt', sep='\\t',names=['user_id','song_id','listen_count'])\n",
    "song_df_1.head()"
   ]
  },
  {
   "cell_type": "code",
   "execution_count": 4,
   "metadata": {
    "execution": {
     "iopub.execute_input": "2021-06-20T16:45:35.035935Z",
     "iopub.status.busy": "2021-06-20T16:45:35.035594Z",
     "iopub.status.idle": "2021-06-20T16:45:41.445605Z",
     "shell.execute_reply": "2021-06-20T16:45:41.444739Z",
     "shell.execute_reply.started": "2021-06-20T16:45:35.035885Z"
    }
   },
   "outputs": [
    {
     "name": "stderr",
     "output_type": "stream",
     "text": [
      "/opt/conda/lib/python3.7/site-packages/ipykernel_launcher.py:1: ParserWarning: Falling back to the 'python' engine because the 'c' engine does not support regex separators (separators > 1 char and different from '\\s+' are interpreted as regex); you can avoid this warning by specifying engine='python'.\n",
      "  \"\"\"Entry point for launching an IPython kernel.\n"
     ]
    },
    {
     "data": {
      "text/html": [
       "<div>\n",
       "<style scoped>\n",
       "    .dataframe tbody tr th:only-of-type {\n",
       "        vertical-align: middle;\n",
       "    }\n",
       "\n",
       "    .dataframe tbody tr th {\n",
       "        vertical-align: top;\n",
       "    }\n",
       "\n",
       "    .dataframe thead th {\n",
       "        text-align: right;\n",
       "    }\n",
       "</style>\n",
       "<table border=\"1\" class=\"dataframe\">\n",
       "  <thead>\n",
       "    <tr style=\"text-align: right;\">\n",
       "      <th></th>\n",
       "      <th>track_id</th>\n",
       "      <th>song_id</th>\n",
       "      <th>artist_name</th>\n",
       "      <th>song_release</th>\n",
       "    </tr>\n",
       "  </thead>\n",
       "  <tbody>\n",
       "    <tr>\n",
       "      <th>0</th>\n",
       "      <td>TRMMMYQ128F932D901</td>\n",
       "      <td>SOQMMHC12AB0180CB8</td>\n",
       "      <td>Faster Pussy cat</td>\n",
       "      <td>Silent Night</td>\n",
       "    </tr>\n",
       "    <tr>\n",
       "      <th>1</th>\n",
       "      <td>TRMMMKD128F425225D</td>\n",
       "      <td>SOVFVAK12A8C1350D9</td>\n",
       "      <td>Karkkiautomaatti</td>\n",
       "      <td>Tanssi vaan</td>\n",
       "    </tr>\n",
       "    <tr>\n",
       "      <th>2</th>\n",
       "      <td>TRMMMRX128F93187D9</td>\n",
       "      <td>SOGTUKN12AB017F4F1</td>\n",
       "      <td>Hudson Mohawke</td>\n",
       "      <td>No One Could Ever</td>\n",
       "    </tr>\n",
       "    <tr>\n",
       "      <th>3</th>\n",
       "      <td>TRMMMCH128F425532C</td>\n",
       "      <td>SOBNYVR12A8C13558C</td>\n",
       "      <td>Yerba Brava</td>\n",
       "      <td>Si Vos Querés</td>\n",
       "    </tr>\n",
       "    <tr>\n",
       "      <th>4</th>\n",
       "      <td>TRMMMWA128F426B589</td>\n",
       "      <td>SOHSBXH12A8C13B0DF</td>\n",
       "      <td>Der Mystic</td>\n",
       "      <td>Tangle Of Aspens</td>\n",
       "    </tr>\n",
       "  </tbody>\n",
       "</table>\n",
       "</div>"
      ],
      "text/plain": [
       "             track_id             song_id       artist_name       song_release\n",
       "0  TRMMMYQ128F932D901  SOQMMHC12AB0180CB8  Faster Pussy cat       Silent Night\n",
       "1  TRMMMKD128F425225D  SOVFVAK12A8C1350D9  Karkkiautomaatti        Tanssi vaan\n",
       "2  TRMMMRX128F93187D9  SOGTUKN12AB017F4F1    Hudson Mohawke  No One Could Ever\n",
       "3  TRMMMCH128F425532C  SOBNYVR12A8C13558C       Yerba Brava      Si Vos Querés\n",
       "4  TRMMMWA128F426B589  SOHSBXH12A8C13B0DF        Der Mystic   Tangle Of Aspens"
      ]
     },
     "execution_count": 4,
     "metadata": {},
     "output_type": "execute_result"
    }
   ],
   "source": [
    "song_df_2 = pd.read_csv('../input/innomatics-music-recom/unique_tracks.txt', sep='<SEP>',names=['track_id','song_id','artist_name','song_release'])\n",
    "song_df_2.head()"
   ]
  },
  {
   "cell_type": "code",
   "execution_count": 5,
   "metadata": {
    "execution": {
     "iopub.execute_input": "2021-06-20T16:45:41.447770Z",
     "iopub.status.busy": "2021-06-20T16:45:41.447421Z",
     "iopub.status.idle": "2021-06-20T16:45:43.431948Z",
     "shell.execute_reply": "2021-06-20T16:45:43.431101Z",
     "shell.execute_reply.started": "2021-06-20T16:45:41.447733Z"
    }
   },
   "outputs": [
    {
     "data": {
      "text/html": [
       "<div>\n",
       "<style scoped>\n",
       "    .dataframe tbody tr th:only-of-type {\n",
       "        vertical-align: middle;\n",
       "    }\n",
       "\n",
       "    .dataframe tbody tr th {\n",
       "        vertical-align: top;\n",
       "    }\n",
       "\n",
       "    .dataframe thead th {\n",
       "        text-align: right;\n",
       "    }\n",
       "</style>\n",
       "<table border=\"1\" class=\"dataframe\">\n",
       "  <thead>\n",
       "    <tr style=\"text-align: right;\">\n",
       "      <th></th>\n",
       "      <th>user_id</th>\n",
       "      <th>song_id</th>\n",
       "      <th>listen_count</th>\n",
       "      <th>track_id</th>\n",
       "      <th>artist_name</th>\n",
       "      <th>song_release</th>\n",
       "    </tr>\n",
       "  </thead>\n",
       "  <tbody>\n",
       "    <tr>\n",
       "      <th>0</th>\n",
       "      <td>fd50c4007b68a3737fe052d5a4f78ce8aa117f3d</td>\n",
       "      <td>SOBONKR12A58A7A7E0</td>\n",
       "      <td>1</td>\n",
       "      <td>TRAEHHJ12903CF492F</td>\n",
       "      <td>Dwight Yoakam</td>\n",
       "      <td>You're The One</td>\n",
       "    </tr>\n",
       "    <tr>\n",
       "      <th>1</th>\n",
       "      <td>fd50c4007b68a3737fe052d5a4f78ce8aa117f3d</td>\n",
       "      <td>SOEGIYH12A6D4FC0E3</td>\n",
       "      <td>1</td>\n",
       "      <td>TRLGMFJ128F4217DBE</td>\n",
       "      <td>Barry Tuckwell/Academy of St Martin-in-the-Fie...</td>\n",
       "      <td>Horn Concerto No. 4 in E flat K495: II. Romanc...</td>\n",
       "    </tr>\n",
       "    <tr>\n",
       "      <th>2</th>\n",
       "      <td>fd50c4007b68a3737fe052d5a4f78ce8aa117f3d</td>\n",
       "      <td>SOFLJQZ12A6D4FADA6</td>\n",
       "      <td>1</td>\n",
       "      <td>TRTNDNE128F1486812</td>\n",
       "      <td>Cartola</td>\n",
       "      <td>Tive Sim</td>\n",
       "    </tr>\n",
       "    <tr>\n",
       "      <th>3</th>\n",
       "      <td>fd50c4007b68a3737fe052d5a4f78ce8aa117f3d</td>\n",
       "      <td>SOHTKMO12AB01843B0</td>\n",
       "      <td>1</td>\n",
       "      <td>TRASTUE128F930D488</td>\n",
       "      <td>Lonnie Gordon</td>\n",
       "      <td>Catch You Baby (Steve Pitron &amp; Max Sanna Radio...</td>\n",
       "    </tr>\n",
       "    <tr>\n",
       "      <th>4</th>\n",
       "      <td>fd50c4007b68a3737fe052d5a4f78ce8aa117f3d</td>\n",
       "      <td>SODQZCY12A6D4F9D11</td>\n",
       "      <td>1</td>\n",
       "      <td>TRFPLWO128F1486B9E</td>\n",
       "      <td>Miguel Calo</td>\n",
       "      <td>El Cuatrero</td>\n",
       "    </tr>\n",
       "  </tbody>\n",
       "</table>\n",
       "</div>"
      ],
      "text/plain": [
       "                                    user_id             song_id  listen_count  \\\n",
       "0  fd50c4007b68a3737fe052d5a4f78ce8aa117f3d  SOBONKR12A58A7A7E0             1   \n",
       "1  fd50c4007b68a3737fe052d5a4f78ce8aa117f3d  SOEGIYH12A6D4FC0E3             1   \n",
       "2  fd50c4007b68a3737fe052d5a4f78ce8aa117f3d  SOFLJQZ12A6D4FADA6             1   \n",
       "3  fd50c4007b68a3737fe052d5a4f78ce8aa117f3d  SOHTKMO12AB01843B0             1   \n",
       "4  fd50c4007b68a3737fe052d5a4f78ce8aa117f3d  SODQZCY12A6D4F9D11             1   \n",
       "\n",
       "             track_id                                        artist_name  \\\n",
       "0  TRAEHHJ12903CF492F                                      Dwight Yoakam   \n",
       "1  TRLGMFJ128F4217DBE  Barry Tuckwell/Academy of St Martin-in-the-Fie...   \n",
       "2  TRTNDNE128F1486812                                            Cartola   \n",
       "3  TRASTUE128F930D488                                      Lonnie Gordon   \n",
       "4  TRFPLWO128F1486B9E                                        Miguel Calo   \n",
       "\n",
       "                                        song_release  \n",
       "0                                     You're The One  \n",
       "1  Horn Concerto No. 4 in E flat K495: II. Romanc...  \n",
       "2                                           Tive Sim  \n",
       "3  Catch You Baby (Steve Pitron & Max Sanna Radio...  \n",
       "4                                        El Cuatrero  "
      ]
     },
     "execution_count": 5,
     "metadata": {},
     "output_type": "execute_result"
    }
   ],
   "source": [
    "# combine both data\n",
    "song_df = pd.merge(song_df_1, song_df_2.drop_duplicates(['song_id']), on='song_id', how='left')\n",
    "song_df.head()"
   ]
  },
  {
   "cell_type": "code",
   "execution_count": 6,
   "metadata": {
    "execution": {
     "iopub.execute_input": "2021-06-20T16:45:43.433973Z",
     "iopub.status.busy": "2021-06-20T16:45:43.433586Z",
     "iopub.status.idle": "2021-06-20T16:45:43.439656Z",
     "shell.execute_reply": "2021-06-20T16:45:43.438726Z",
     "shell.execute_reply.started": "2021-06-20T16:45:43.433915Z"
    }
   },
   "outputs": [
    {
     "name": "stdout",
     "output_type": "stream",
     "text": [
      "1450933 1000000\n"
     ]
    }
   ],
   "source": [
    "print(len(song_df_1), len(song_df_2))"
   ]
  },
  {
   "cell_type": "code",
   "execution_count": 7,
   "metadata": {
    "execution": {
     "iopub.execute_input": "2021-06-20T16:45:43.442036Z",
     "iopub.status.busy": "2021-06-20T16:45:43.441348Z",
     "iopub.status.idle": "2021-06-20T16:45:43.450382Z",
     "shell.execute_reply": "2021-06-20T16:45:43.449355Z",
     "shell.execute_reply.started": "2021-06-20T16:45:43.441998Z"
    }
   },
   "outputs": [
    {
     "data": {
      "text/plain": [
       "1450933"
      ]
     },
     "execution_count": 7,
     "metadata": {},
     "output_type": "execute_result"
    }
   ],
   "source": [
    "len(song_df)"
   ]
  },
  {
   "cell_type": "markdown",
   "metadata": {},
   "source": [
    "## Data Preprocessing"
   ]
  },
  {
   "cell_type": "code",
   "execution_count": null,
   "metadata": {},
   "outputs": [],
   "source": []
  },
  {
   "cell_type": "code",
   "execution_count": 8,
   "metadata": {
    "execution": {
     "iopub.execute_input": "2021-06-20T16:45:43.452069Z",
     "iopub.status.busy": "2021-06-20T16:45:43.451685Z",
     "iopub.status.idle": "2021-06-20T16:45:43.458414Z",
     "shell.execute_reply": "2021-06-20T16:45:43.457653Z",
     "shell.execute_reply.started": "2021-06-20T16:45:43.452026Z"
    }
   },
   "outputs": [],
   "source": [
    "# taking top 10k samples for quick results\n",
    "song_df = song_df.head(10000)"
   ]
  },
  {
   "cell_type": "code",
   "execution_count": 9,
   "metadata": {
    "execution": {
     "iopub.execute_input": "2021-06-20T16:45:43.460055Z",
     "iopub.status.busy": "2021-06-20T16:45:43.459703Z",
     "iopub.status.idle": "2021-06-20T16:45:43.487560Z",
     "shell.execute_reply": "2021-06-20T16:45:43.486825Z",
     "shell.execute_reply.started": "2021-06-20T16:45:43.460022Z"
    }
   },
   "outputs": [
    {
     "data": {
      "text/html": [
       "<div>\n",
       "<style scoped>\n",
       "    .dataframe tbody tr th:only-of-type {\n",
       "        vertical-align: middle;\n",
       "    }\n",
       "\n",
       "    .dataframe tbody tr th {\n",
       "        vertical-align: top;\n",
       "    }\n",
       "\n",
       "    .dataframe thead th {\n",
       "        text-align: right;\n",
       "    }\n",
       "</style>\n",
       "<table border=\"1\" class=\"dataframe\">\n",
       "  <thead>\n",
       "    <tr style=\"text-align: right;\">\n",
       "      <th></th>\n",
       "      <th>song_release</th>\n",
       "      <th>listen_count</th>\n",
       "    </tr>\n",
       "  </thead>\n",
       "  <tbody>\n",
       "    <tr>\n",
       "      <th>0</th>\n",
       "      <td>#40</td>\n",
       "      <td>1</td>\n",
       "    </tr>\n",
       "    <tr>\n",
       "      <th>1</th>\n",
       "      <td>$in$</td>\n",
       "      <td>1</td>\n",
       "    </tr>\n",
       "    <tr>\n",
       "      <th>2</th>\n",
       "      <td>&amp; Down</td>\n",
       "      <td>1</td>\n",
       "    </tr>\n",
       "    <tr>\n",
       "      <th>3</th>\n",
       "      <td>&amp;And The World Will Cease To Be</td>\n",
       "      <td>1</td>\n",
       "    </tr>\n",
       "    <tr>\n",
       "      <th>4</th>\n",
       "      <td>'A Cimma</td>\n",
       "      <td>1</td>\n",
       "    </tr>\n",
       "  </tbody>\n",
       "</table>\n",
       "</div>"
      ],
      "text/plain": [
       "                      song_release  listen_count\n",
       "0                              #40             1\n",
       "1                             $in$             1\n",
       "2                           & Down             1\n",
       "3  &And The World Will Cease To Be             1\n",
       "4                         'A Cimma             1"
      ]
     },
     "execution_count": 9,
     "metadata": {},
     "output_type": "execute_result"
    }
   ],
   "source": [
    "# cummulative sum of listen count of the songs\n",
    "song_grouped = song_df.groupby(['song_release']).agg({'listen_count':'count'}).reset_index()\n",
    "song_grouped.head()"
   ]
  },
  {
   "cell_type": "code",
   "execution_count": 10,
   "metadata": {
    "execution": {
     "iopub.execute_input": "2021-06-20T16:45:43.490255Z",
     "iopub.status.busy": "2021-06-20T16:45:43.489857Z",
     "iopub.status.idle": "2021-06-20T16:45:43.533226Z",
     "shell.execute_reply": "2021-06-20T16:45:43.532392Z",
     "shell.execute_reply.started": "2021-06-20T16:45:43.490221Z"
    }
   },
   "outputs": [
    {
     "data": {
      "text/html": [
       "<div>\n",
       "<style scoped>\n",
       "    .dataframe tbody tr th:only-of-type {\n",
       "        vertical-align: middle;\n",
       "    }\n",
       "\n",
       "    .dataframe tbody tr th {\n",
       "        vertical-align: top;\n",
       "    }\n",
       "\n",
       "    .dataframe thead th {\n",
       "        text-align: right;\n",
       "    }\n",
       "</style>\n",
       "<table border=\"1\" class=\"dataframe\">\n",
       "  <thead>\n",
       "    <tr style=\"text-align: right;\">\n",
       "      <th></th>\n",
       "      <th>song_release</th>\n",
       "      <th>listen_count</th>\n",
       "      <th>percentage</th>\n",
       "    </tr>\n",
       "  </thead>\n",
       "  <tbody>\n",
       "    <tr>\n",
       "      <th>7113</th>\n",
       "      <td>You're The One</td>\n",
       "      <td>40</td>\n",
       "      <td>0.40</td>\n",
       "    </tr>\n",
       "    <tr>\n",
       "      <th>6524</th>\n",
       "      <td>Undo</td>\n",
       "      <td>38</td>\n",
       "      <td>0.38</td>\n",
       "    </tr>\n",
       "    <tr>\n",
       "      <th>5089</th>\n",
       "      <td>Sehr kosmisch</td>\n",
       "      <td>36</td>\n",
       "      <td>0.36</td>\n",
       "    </tr>\n",
       "    <tr>\n",
       "      <th>4814</th>\n",
       "      <td>Revelry</td>\n",
       "      <td>32</td>\n",
       "      <td>0.32</td>\n",
       "    </tr>\n",
       "    <tr>\n",
       "      <th>1468</th>\n",
       "      <td>Dog Days Are Over (Radio Edit)</td>\n",
       "      <td>29</td>\n",
       "      <td>0.29</td>\n",
       "    </tr>\n",
       "    <tr>\n",
       "      <th>...</th>\n",
       "      <td>...</td>\n",
       "      <td>...</td>\n",
       "      <td>...</td>\n",
       "    </tr>\n",
       "    <tr>\n",
       "      <th>7178</th>\n",
       "      <td>Árboles de la barranca</td>\n",
       "      <td>1</td>\n",
       "      <td>0.01</td>\n",
       "    </tr>\n",
       "    <tr>\n",
       "      <th>7179</th>\n",
       "      <td>Ännu En Dag</td>\n",
       "      <td>1</td>\n",
       "      <td>0.01</td>\n",
       "    </tr>\n",
       "    <tr>\n",
       "      <th>7180</th>\n",
       "      <td>Ça Marche</td>\n",
       "      <td>1</td>\n",
       "      <td>0.01</td>\n",
       "    </tr>\n",
       "    <tr>\n",
       "      <th>7181</th>\n",
       "      <td>Örökké Tart</td>\n",
       "      <td>1</td>\n",
       "      <td>0.01</td>\n",
       "    </tr>\n",
       "    <tr>\n",
       "      <th>7182</th>\n",
       "      <td>ça Me Fait Du Bien</td>\n",
       "      <td>1</td>\n",
       "      <td>0.01</td>\n",
       "    </tr>\n",
       "  </tbody>\n",
       "</table>\n",
       "<p>7183 rows × 3 columns</p>\n",
       "</div>"
      ],
      "text/plain": [
       "                        song_release  listen_count  percentage\n",
       "7113                  You're The One            40        0.40\n",
       "6524                            Undo            38        0.38\n",
       "5089                   Sehr kosmisch            36        0.36\n",
       "4814                         Revelry            32        0.32\n",
       "1468  Dog Days Are Over (Radio Edit)            29        0.29\n",
       "...                              ...           ...         ...\n",
       "7178          Árboles de la barranca             1        0.01\n",
       "7179                     Ännu En Dag             1        0.01\n",
       "7180                       Ça Marche             1        0.01\n",
       "7181                     Örökké Tart             1        0.01\n",
       "7182              ça Me Fait Du Bien             1        0.01\n",
       "\n",
       "[7183 rows x 3 columns]"
      ]
     },
     "execution_count": 10,
     "metadata": {},
     "output_type": "execute_result"
    }
   ],
   "source": [
    "grouped_sum = song_grouped['listen_count'].sum()\n",
    "song_grouped['percentage'] = (song_grouped['listen_count'] / grouped_sum ) * 100\n",
    "song_grouped.sort_values(['listen_count', 'song_release'], ascending=[0,1])"
   ]
  },
  {
   "cell_type": "markdown",
   "metadata": {},
   "source": [
    "## Popularity Recommendation Engine"
   ]
  },
  {
   "cell_type": "code",
   "execution_count": 11,
   "metadata": {
    "execution": {
     "iopub.execute_input": "2021-06-20T16:45:43.535092Z",
     "iopub.status.busy": "2021-06-20T16:45:43.534755Z",
     "iopub.status.idle": "2021-06-20T16:45:43.538579Z",
     "shell.execute_reply": "2021-06-20T16:45:43.537786Z",
     "shell.execute_reply.started": "2021-06-20T16:45:43.535061Z"
    }
   },
   "outputs": [],
   "source": [
    "pr = Recommenders.popularity_recommender_py()"
   ]
  },
  {
   "cell_type": "code",
   "execution_count": 12,
   "metadata": {
    "execution": {
     "iopub.execute_input": "2021-06-20T16:45:43.540410Z",
     "iopub.status.busy": "2021-06-20T16:45:43.539832Z",
     "iopub.status.idle": "2021-06-20T16:45:43.579264Z",
     "shell.execute_reply": "2021-06-20T16:45:43.578519Z",
     "shell.execute_reply.started": "2021-06-20T16:45:43.540371Z"
    }
   },
   "outputs": [],
   "source": [
    "pr.create(song_df, 'user_id', 'song_release')"
   ]
  },
  {
   "cell_type": "code",
   "execution_count": 13,
   "metadata": {
    "execution": {
     "iopub.execute_input": "2021-06-20T16:45:43.580767Z",
     "iopub.status.busy": "2021-06-20T16:45:43.580434Z",
     "iopub.status.idle": "2021-06-20T16:45:43.595007Z",
     "shell.execute_reply": "2021-06-20T16:45:43.593998Z",
     "shell.execute_reply.started": "2021-06-20T16:45:43.580735Z"
    }
   },
   "outputs": [
    {
     "data": {
      "text/html": [
       "<div>\n",
       "<style scoped>\n",
       "    .dataframe tbody tr th:only-of-type {\n",
       "        vertical-align: middle;\n",
       "    }\n",
       "\n",
       "    .dataframe tbody tr th {\n",
       "        vertical-align: top;\n",
       "    }\n",
       "\n",
       "    .dataframe thead th {\n",
       "        text-align: right;\n",
       "    }\n",
       "</style>\n",
       "<table border=\"1\" class=\"dataframe\">\n",
       "  <thead>\n",
       "    <tr style=\"text-align: right;\">\n",
       "      <th></th>\n",
       "      <th>user_id</th>\n",
       "      <th>song_release</th>\n",
       "      <th>score</th>\n",
       "      <th>Rank</th>\n",
       "    </tr>\n",
       "  </thead>\n",
       "  <tbody>\n",
       "    <tr>\n",
       "      <th>7113</th>\n",
       "      <td>fd50c4007b68a3737fe052d5a4f78ce8aa117f3d</td>\n",
       "      <td>You're The One</td>\n",
       "      <td>40</td>\n",
       "      <td>1.0</td>\n",
       "    </tr>\n",
       "    <tr>\n",
       "      <th>6524</th>\n",
       "      <td>fd50c4007b68a3737fe052d5a4f78ce8aa117f3d</td>\n",
       "      <td>Undo</td>\n",
       "      <td>38</td>\n",
       "      <td>2.0</td>\n",
       "    </tr>\n",
       "    <tr>\n",
       "      <th>5089</th>\n",
       "      <td>fd50c4007b68a3737fe052d5a4f78ce8aa117f3d</td>\n",
       "      <td>Sehr kosmisch</td>\n",
       "      <td>36</td>\n",
       "      <td>3.0</td>\n",
       "    </tr>\n",
       "    <tr>\n",
       "      <th>4814</th>\n",
       "      <td>fd50c4007b68a3737fe052d5a4f78ce8aa117f3d</td>\n",
       "      <td>Revelry</td>\n",
       "      <td>32</td>\n",
       "      <td>4.0</td>\n",
       "    </tr>\n",
       "    <tr>\n",
       "      <th>1468</th>\n",
       "      <td>fd50c4007b68a3737fe052d5a4f78ce8aa117f3d</td>\n",
       "      <td>Dog Days Are Over (Radio Edit)</td>\n",
       "      <td>29</td>\n",
       "      <td>5.0</td>\n",
       "    </tr>\n",
       "    <tr>\n",
       "      <th>650</th>\n",
       "      <td>fd50c4007b68a3737fe052d5a4f78ce8aa117f3d</td>\n",
       "      <td>Billionaire [feat. Bruno Mars]  (Explicit Albu...</td>\n",
       "      <td>24</td>\n",
       "      <td>6.0</td>\n",
       "    </tr>\n",
       "    <tr>\n",
       "      <th>1581</th>\n",
       "      <td>fd50c4007b68a3737fe052d5a4f78ce8aa117f3d</td>\n",
       "      <td>Drop The World</td>\n",
       "      <td>22</td>\n",
       "      <td>7.0</td>\n",
       "    </tr>\n",
       "    <tr>\n",
       "      <th>1934</th>\n",
       "      <td>fd50c4007b68a3737fe052d5a4f78ce8aa117f3d</td>\n",
       "      <td>Fireflies</td>\n",
       "      <td>22</td>\n",
       "      <td>8.0</td>\n",
       "    </tr>\n",
       "    <tr>\n",
       "      <th>2581</th>\n",
       "      <td>fd50c4007b68a3737fe052d5a4f78ce8aa117f3d</td>\n",
       "      <td>Horn Concerto No. 4 in E flat K495: II. Romanc...</td>\n",
       "      <td>22</td>\n",
       "      <td>9.0</td>\n",
       "    </tr>\n",
       "    <tr>\n",
       "      <th>4799</th>\n",
       "      <td>fd50c4007b68a3737fe052d5a4f78ce8aa117f3d</td>\n",
       "      <td>Représente</td>\n",
       "      <td>20</td>\n",
       "      <td>10.0</td>\n",
       "    </tr>\n",
       "  </tbody>\n",
       "</table>\n",
       "</div>"
      ],
      "text/plain": [
       "                                       user_id  \\\n",
       "7113  fd50c4007b68a3737fe052d5a4f78ce8aa117f3d   \n",
       "6524  fd50c4007b68a3737fe052d5a4f78ce8aa117f3d   \n",
       "5089  fd50c4007b68a3737fe052d5a4f78ce8aa117f3d   \n",
       "4814  fd50c4007b68a3737fe052d5a4f78ce8aa117f3d   \n",
       "1468  fd50c4007b68a3737fe052d5a4f78ce8aa117f3d   \n",
       "650   fd50c4007b68a3737fe052d5a4f78ce8aa117f3d   \n",
       "1581  fd50c4007b68a3737fe052d5a4f78ce8aa117f3d   \n",
       "1934  fd50c4007b68a3737fe052d5a4f78ce8aa117f3d   \n",
       "2581  fd50c4007b68a3737fe052d5a4f78ce8aa117f3d   \n",
       "4799  fd50c4007b68a3737fe052d5a4f78ce8aa117f3d   \n",
       "\n",
       "                                           song_release  score  Rank  \n",
       "7113                                     You're The One     40   1.0  \n",
       "6524                                               Undo     38   2.0  \n",
       "5089                                      Sehr kosmisch     36   3.0  \n",
       "4814                                            Revelry     32   4.0  \n",
       "1468                     Dog Days Are Over (Radio Edit)     29   5.0  \n",
       "650   Billionaire [feat. Bruno Mars]  (Explicit Albu...     24   6.0  \n",
       "1581                                     Drop The World     22   7.0  \n",
       "1934                                          Fireflies     22   8.0  \n",
       "2581  Horn Concerto No. 4 in E flat K495: II. Romanc...     22   9.0  \n",
       "4799                                         Représente     20  10.0  "
      ]
     },
     "execution_count": 13,
     "metadata": {},
     "output_type": "execute_result"
    }
   ],
   "source": [
    "# display the top 10 popular songs\n",
    "pr.recommend(song_df['user_id'][5])"
   ]
  },
  {
   "cell_type": "code",
   "execution_count": 14,
   "metadata": {
    "execution": {
     "iopub.execute_input": "2021-06-20T16:45:43.597003Z",
     "iopub.status.busy": "2021-06-20T16:45:43.596525Z",
     "iopub.status.idle": "2021-06-20T16:45:43.612395Z",
     "shell.execute_reply": "2021-06-20T16:45:43.611282Z",
     "shell.execute_reply.started": "2021-06-20T16:45:43.596957Z"
    }
   },
   "outputs": [
    {
     "data": {
      "text/html": [
       "<div>\n",
       "<style scoped>\n",
       "    .dataframe tbody tr th:only-of-type {\n",
       "        vertical-align: middle;\n",
       "    }\n",
       "\n",
       "    .dataframe tbody tr th {\n",
       "        vertical-align: top;\n",
       "    }\n",
       "\n",
       "    .dataframe thead th {\n",
       "        text-align: right;\n",
       "    }\n",
       "</style>\n",
       "<table border=\"1\" class=\"dataframe\">\n",
       "  <thead>\n",
       "    <tr style=\"text-align: right;\">\n",
       "      <th></th>\n",
       "      <th>user_id</th>\n",
       "      <th>song_release</th>\n",
       "      <th>score</th>\n",
       "      <th>Rank</th>\n",
       "    </tr>\n",
       "  </thead>\n",
       "  <tbody>\n",
       "    <tr>\n",
       "      <th>7113</th>\n",
       "      <td>fdf6afb5daefb42774617cf223475c6013969724</td>\n",
       "      <td>You're The One</td>\n",
       "      <td>40</td>\n",
       "      <td>1.0</td>\n",
       "    </tr>\n",
       "    <tr>\n",
       "      <th>6524</th>\n",
       "      <td>fdf6afb5daefb42774617cf223475c6013969724</td>\n",
       "      <td>Undo</td>\n",
       "      <td>38</td>\n",
       "      <td>2.0</td>\n",
       "    </tr>\n",
       "    <tr>\n",
       "      <th>5089</th>\n",
       "      <td>fdf6afb5daefb42774617cf223475c6013969724</td>\n",
       "      <td>Sehr kosmisch</td>\n",
       "      <td>36</td>\n",
       "      <td>3.0</td>\n",
       "    </tr>\n",
       "    <tr>\n",
       "      <th>4814</th>\n",
       "      <td>fdf6afb5daefb42774617cf223475c6013969724</td>\n",
       "      <td>Revelry</td>\n",
       "      <td>32</td>\n",
       "      <td>4.0</td>\n",
       "    </tr>\n",
       "    <tr>\n",
       "      <th>1468</th>\n",
       "      <td>fdf6afb5daefb42774617cf223475c6013969724</td>\n",
       "      <td>Dog Days Are Over (Radio Edit)</td>\n",
       "      <td>29</td>\n",
       "      <td>5.0</td>\n",
       "    </tr>\n",
       "    <tr>\n",
       "      <th>650</th>\n",
       "      <td>fdf6afb5daefb42774617cf223475c6013969724</td>\n",
       "      <td>Billionaire [feat. Bruno Mars]  (Explicit Albu...</td>\n",
       "      <td>24</td>\n",
       "      <td>6.0</td>\n",
       "    </tr>\n",
       "    <tr>\n",
       "      <th>1581</th>\n",
       "      <td>fdf6afb5daefb42774617cf223475c6013969724</td>\n",
       "      <td>Drop The World</td>\n",
       "      <td>22</td>\n",
       "      <td>7.0</td>\n",
       "    </tr>\n",
       "    <tr>\n",
       "      <th>1934</th>\n",
       "      <td>fdf6afb5daefb42774617cf223475c6013969724</td>\n",
       "      <td>Fireflies</td>\n",
       "      <td>22</td>\n",
       "      <td>8.0</td>\n",
       "    </tr>\n",
       "    <tr>\n",
       "      <th>2581</th>\n",
       "      <td>fdf6afb5daefb42774617cf223475c6013969724</td>\n",
       "      <td>Horn Concerto No. 4 in E flat K495: II. Romanc...</td>\n",
       "      <td>22</td>\n",
       "      <td>9.0</td>\n",
       "    </tr>\n",
       "    <tr>\n",
       "      <th>4799</th>\n",
       "      <td>fdf6afb5daefb42774617cf223475c6013969724</td>\n",
       "      <td>Représente</td>\n",
       "      <td>20</td>\n",
       "      <td>10.0</td>\n",
       "    </tr>\n",
       "  </tbody>\n",
       "</table>\n",
       "</div>"
      ],
      "text/plain": [
       "                                       user_id  \\\n",
       "7113  fdf6afb5daefb42774617cf223475c6013969724   \n",
       "6524  fdf6afb5daefb42774617cf223475c6013969724   \n",
       "5089  fdf6afb5daefb42774617cf223475c6013969724   \n",
       "4814  fdf6afb5daefb42774617cf223475c6013969724   \n",
       "1468  fdf6afb5daefb42774617cf223475c6013969724   \n",
       "650   fdf6afb5daefb42774617cf223475c6013969724   \n",
       "1581  fdf6afb5daefb42774617cf223475c6013969724   \n",
       "1934  fdf6afb5daefb42774617cf223475c6013969724   \n",
       "2581  fdf6afb5daefb42774617cf223475c6013969724   \n",
       "4799  fdf6afb5daefb42774617cf223475c6013969724   \n",
       "\n",
       "                                           song_release  score  Rank  \n",
       "7113                                     You're The One     40   1.0  \n",
       "6524                                               Undo     38   2.0  \n",
       "5089                                      Sehr kosmisch     36   3.0  \n",
       "4814                                            Revelry     32   4.0  \n",
       "1468                     Dog Days Are Over (Radio Edit)     29   5.0  \n",
       "650   Billionaire [feat. Bruno Mars]  (Explicit Albu...     24   6.0  \n",
       "1581                                     Drop The World     22   7.0  \n",
       "1934                                          Fireflies     22   8.0  \n",
       "2581  Horn Concerto No. 4 in E flat K495: II. Romanc...     22   9.0  \n",
       "4799                                         Représente     20  10.0  "
      ]
     },
     "execution_count": 14,
     "metadata": {},
     "output_type": "execute_result"
    }
   ],
   "source": [
    "pr.recommend(song_df['user_id'][100])"
   ]
  },
  {
   "cell_type": "markdown",
   "metadata": {},
   "source": [
    "## Item Similarity Recommendation"
   ]
  },
  {
   "cell_type": "code",
   "execution_count": 15,
   "metadata": {
    "execution": {
     "iopub.execute_input": "2021-06-20T16:45:43.614482Z",
     "iopub.status.busy": "2021-06-20T16:45:43.614082Z",
     "iopub.status.idle": "2021-06-20T16:45:43.621578Z",
     "shell.execute_reply": "2021-06-20T16:45:43.620621Z",
     "shell.execute_reply.started": "2021-06-20T16:45:43.614445Z"
    }
   },
   "outputs": [],
   "source": [
    "ir = Recommenders.item_similarity_recommender_py()\n",
    "ir.create(song_df, 'user_id', 'song_release')"
   ]
  },
  {
   "cell_type": "code",
   "execution_count": 16,
   "metadata": {
    "execution": {
     "iopub.execute_input": "2021-06-20T16:45:43.623296Z",
     "iopub.status.busy": "2021-06-20T16:45:43.622902Z",
     "iopub.status.idle": "2021-06-20T16:45:43.635103Z",
     "shell.execute_reply": "2021-06-20T16:45:43.634273Z",
     "shell.execute_reply.started": "2021-06-20T16:45:43.623261Z"
    }
   },
   "outputs": [],
   "source": [
    "user_items = ir.get_user_items(song_df['user_id'][5])"
   ]
  },
  {
   "cell_type": "code",
   "execution_count": 17,
   "metadata": {
    "execution": {
     "iopub.execute_input": "2021-06-20T16:45:43.639033Z",
     "iopub.status.busy": "2021-06-20T16:45:43.638022Z",
     "iopub.status.idle": "2021-06-20T16:45:43.648339Z",
     "shell.execute_reply": "2021-06-20T16:45:43.647307Z",
     "shell.execute_reply.started": "2021-06-20T16:45:43.638994Z"
    }
   },
   "outputs": [
    {
     "name": "stdout",
     "output_type": "stream",
     "text": [
      "You're The One\n",
      "Horn Concerto No. 4 in E flat K495: II. Romance (Andante cantabile)\n",
      "Tive Sim\n",
      "Catch You Baby (Steve Pitron & Max Sanna Radio Edit)\n",
      "El Cuatrero\n",
      "Unite (2009 Digital Remaster)\n"
     ]
    }
   ],
   "source": [
    "# display user songs history\n",
    "for user_item in user_items:\n",
    "    print(user_item)"
   ]
  },
  {
   "cell_type": "code",
   "execution_count": 18,
   "metadata": {
    "execution": {
     "iopub.execute_input": "2021-06-20T16:45:43.650093Z",
     "iopub.status.busy": "2021-06-20T16:45:43.649600Z",
     "iopub.status.idle": "2021-06-20T16:45:56.013053Z",
     "shell.execute_reply": "2021-06-20T16:45:56.012160Z",
     "shell.execute_reply.started": "2021-06-20T16:45:43.650057Z"
    }
   },
   "outputs": [
    {
     "name": "stdout",
     "output_type": "stream",
     "text": [
      "No. of unique songs for the user: 6\n",
      "no. of unique songs in the training set: 7183\n",
      "Non zero values in cooccurence_matrix :1403\n"
     ]
    },
    {
     "data": {
      "text/html": [
       "<div>\n",
       "<style scoped>\n",
       "    .dataframe tbody tr th:only-of-type {\n",
       "        vertical-align: middle;\n",
       "    }\n",
       "\n",
       "    .dataframe tbody tr th {\n",
       "        vertical-align: top;\n",
       "    }\n",
       "\n",
       "    .dataframe thead th {\n",
       "        text-align: right;\n",
       "    }\n",
       "</style>\n",
       "<table border=\"1\" class=\"dataframe\">\n",
       "  <thead>\n",
       "    <tr style=\"text-align: right;\">\n",
       "      <th></th>\n",
       "      <th>user_id</th>\n",
       "      <th>song</th>\n",
       "      <th>score</th>\n",
       "      <th>rank</th>\n",
       "    </tr>\n",
       "  </thead>\n",
       "  <tbody>\n",
       "    <tr>\n",
       "      <th>0</th>\n",
       "      <td>fd50c4007b68a3737fe052d5a4f78ce8aa117f3d</td>\n",
       "      <td>Représente</td>\n",
       "      <td>0.068740</td>\n",
       "      <td>1</td>\n",
       "    </tr>\n",
       "    <tr>\n",
       "      <th>1</th>\n",
       "      <td>fd50c4007b68a3737fe052d5a4f78ce8aa117f3d</td>\n",
       "      <td>Revelry</td>\n",
       "      <td>0.067948</td>\n",
       "      <td>2</td>\n",
       "    </tr>\n",
       "    <tr>\n",
       "      <th>2</th>\n",
       "      <td>fd50c4007b68a3737fe052d5a4f78ce8aa117f3d</td>\n",
       "      <td>Sayonara-Nostalgia</td>\n",
       "      <td>0.066639</td>\n",
       "      <td>3</td>\n",
       "    </tr>\n",
       "    <tr>\n",
       "      <th>3</th>\n",
       "      <td>fd50c4007b68a3737fe052d5a4f78ce8aa117f3d</td>\n",
       "      <td>Undo</td>\n",
       "      <td>0.064033</td>\n",
       "      <td>4</td>\n",
       "    </tr>\n",
       "    <tr>\n",
       "      <th>4</th>\n",
       "      <td>fd50c4007b68a3737fe052d5a4f78ce8aa117f3d</td>\n",
       "      <td>Secrets</td>\n",
       "      <td>0.060982</td>\n",
       "      <td>5</td>\n",
       "    </tr>\n",
       "    <tr>\n",
       "      <th>5</th>\n",
       "      <td>fd50c4007b68a3737fe052d5a4f78ce8aa117f3d</td>\n",
       "      <td>Rianna</td>\n",
       "      <td>0.052746</td>\n",
       "      <td>6</td>\n",
       "    </tr>\n",
       "    <tr>\n",
       "      <th>6</th>\n",
       "      <td>fd50c4007b68a3737fe052d5a4f78ce8aa117f3d</td>\n",
       "      <td>Gears</td>\n",
       "      <td>0.043940</td>\n",
       "      <td>7</td>\n",
       "    </tr>\n",
       "    <tr>\n",
       "      <th>7</th>\n",
       "      <td>fd50c4007b68a3737fe052d5a4f78ce8aa117f3d</td>\n",
       "      <td>The Gift</td>\n",
       "      <td>0.043168</td>\n",
       "      <td>8</td>\n",
       "    </tr>\n",
       "    <tr>\n",
       "      <th>8</th>\n",
       "      <td>fd50c4007b68a3737fe052d5a4f78ce8aa117f3d</td>\n",
       "      <td>Invalid</td>\n",
       "      <td>0.042351</td>\n",
       "      <td>9</td>\n",
       "    </tr>\n",
       "    <tr>\n",
       "      <th>9</th>\n",
       "      <td>fd50c4007b68a3737fe052d5a4f78ce8aa117f3d</td>\n",
       "      <td>16 Candles</td>\n",
       "      <td>0.041779</td>\n",
       "      <td>10</td>\n",
       "    </tr>\n",
       "  </tbody>\n",
       "</table>\n",
       "</div>"
      ],
      "text/plain": [
       "                                    user_id                song     score rank\n",
       "0  fd50c4007b68a3737fe052d5a4f78ce8aa117f3d          Représente  0.068740    1\n",
       "1  fd50c4007b68a3737fe052d5a4f78ce8aa117f3d             Revelry  0.067948    2\n",
       "2  fd50c4007b68a3737fe052d5a4f78ce8aa117f3d  Sayonara-Nostalgia  0.066639    3\n",
       "3  fd50c4007b68a3737fe052d5a4f78ce8aa117f3d                Undo  0.064033    4\n",
       "4  fd50c4007b68a3737fe052d5a4f78ce8aa117f3d             Secrets  0.060982    5\n",
       "5  fd50c4007b68a3737fe052d5a4f78ce8aa117f3d              Rianna  0.052746    6\n",
       "6  fd50c4007b68a3737fe052d5a4f78ce8aa117f3d               Gears  0.043940    7\n",
       "7  fd50c4007b68a3737fe052d5a4f78ce8aa117f3d            The Gift  0.043168    8\n",
       "8  fd50c4007b68a3737fe052d5a4f78ce8aa117f3d             Invalid  0.042351    9\n",
       "9  fd50c4007b68a3737fe052d5a4f78ce8aa117f3d          16 Candles  0.041779   10"
      ]
     },
     "execution_count": 18,
     "metadata": {},
     "output_type": "execute_result"
    }
   ],
   "source": [
    "# give song recommendation for that user\n",
    "ir.recommend(song_df['user_id'][5])"
   ]
  },
  {
   "cell_type": "code",
   "execution_count": 21,
   "metadata": {
    "execution": {
     "iopub.execute_input": "2021-06-20T16:50:11.077424Z",
     "iopub.status.busy": "2021-06-20T16:50:11.077109Z",
     "iopub.status.idle": "2021-06-20T16:50:22.928637Z",
     "shell.execute_reply": "2021-06-20T16:50:22.927835Z",
     "shell.execute_reply.started": "2021-06-20T16:50:11.077396Z"
    }
   },
   "outputs": [
    {
     "name": "stdout",
     "output_type": "stream",
     "text": [
      "no. of unique songs in the training set: 7183\n",
      "Non zero values in cooccurence_matrix :789\n"
     ]
    },
    {
     "data": {
      "text/html": [
       "<div>\n",
       "<style scoped>\n",
       "    .dataframe tbody tr th:only-of-type {\n",
       "        vertical-align: middle;\n",
       "    }\n",
       "\n",
       "    .dataframe tbody tr th {\n",
       "        vertical-align: top;\n",
       "    }\n",
       "\n",
       "    .dataframe thead th {\n",
       "        text-align: right;\n",
       "    }\n",
       "</style>\n",
       "<table border=\"1\" class=\"dataframe\">\n",
       "  <thead>\n",
       "    <tr style=\"text-align: right;\">\n",
       "      <th></th>\n",
       "      <th>user_id</th>\n",
       "      <th>song</th>\n",
       "      <th>score</th>\n",
       "      <th>rank</th>\n",
       "    </tr>\n",
       "  </thead>\n",
       "  <tbody>\n",
       "    <tr>\n",
       "      <th>0</th>\n",
       "      <td></td>\n",
       "      <td>Undo</td>\n",
       "      <td>0.100932</td>\n",
       "      <td>1</td>\n",
       "    </tr>\n",
       "    <tr>\n",
       "      <th>1</th>\n",
       "      <td></td>\n",
       "      <td>OMG</td>\n",
       "      <td>0.084124</td>\n",
       "      <td>2</td>\n",
       "    </tr>\n",
       "    <tr>\n",
       "      <th>2</th>\n",
       "      <td></td>\n",
       "      <td>Secrets</td>\n",
       "      <td>0.080556</td>\n",
       "      <td>3</td>\n",
       "    </tr>\n",
       "    <tr>\n",
       "      <th>3</th>\n",
       "      <td></td>\n",
       "      <td>Hey_ Soul Sister</td>\n",
       "      <td>0.074132</td>\n",
       "      <td>4</td>\n",
       "    </tr>\n",
       "    <tr>\n",
       "      <th>4</th>\n",
       "      <td></td>\n",
       "      <td>Fix You</td>\n",
       "      <td>0.068387</td>\n",
       "      <td>5</td>\n",
       "    </tr>\n",
       "    <tr>\n",
       "      <th>5</th>\n",
       "      <td></td>\n",
       "      <td>16 Candles</td>\n",
       "      <td>0.067091</td>\n",
       "      <td>6</td>\n",
       "    </tr>\n",
       "    <tr>\n",
       "      <th>6</th>\n",
       "      <td></td>\n",
       "      <td>The Only Exception (Album Version)</td>\n",
       "      <td>0.063988</td>\n",
       "      <td>7</td>\n",
       "    </tr>\n",
       "    <tr>\n",
       "      <th>7</th>\n",
       "      <td></td>\n",
       "      <td>Revelry</td>\n",
       "      <td>0.056544</td>\n",
       "      <td>8</td>\n",
       "    </tr>\n",
       "    <tr>\n",
       "      <th>8</th>\n",
       "      <td></td>\n",
       "      <td>Billionaire [feat. Bruno Mars]  (Explicit Albu...</td>\n",
       "      <td>0.056061</td>\n",
       "      <td>9</td>\n",
       "    </tr>\n",
       "    <tr>\n",
       "      <th>9</th>\n",
       "      <td></td>\n",
       "      <td>Dog Days Are Over (Radio Edit)</td>\n",
       "      <td>0.053977</td>\n",
       "      <td>10</td>\n",
       "    </tr>\n",
       "  </tbody>\n",
       "</table>\n",
       "</div>"
      ],
      "text/plain": [
       "  user_id                                               song     score rank\n",
       "0                                                       Undo  0.100932    1\n",
       "1                                                        OMG  0.084124    2\n",
       "2                                                    Secrets  0.080556    3\n",
       "3                                           Hey_ Soul Sister  0.074132    4\n",
       "4                                                    Fix You  0.068387    5\n",
       "5                                                 16 Candles  0.067091    6\n",
       "6                         The Only Exception (Album Version)  0.063988    7\n",
       "7                                                    Revelry  0.056544    8\n",
       "8          Billionaire [feat. Bruno Mars]  (Explicit Albu...  0.056061    9\n",
       "9                             Dog Days Are Over (Radio Edit)  0.053977   10"
      ]
     },
     "execution_count": 21,
     "metadata": {},
     "output_type": "execute_result"
    }
   ],
   "source": [
    "# give related songs based on the words\n",
    "ir.get_similar_items(['You\\'re The One', 'Fireflies'])"
   ]
  },
  {
   "cell_type": "code",
   "execution_count": null,
   "metadata": {},
   "outputs": [],
   "source": []
  }
 ],
 "metadata": {
  "kernelspec": {
   "display_name": "Python 3",
   "language": "python",
   "name": "python3"
  },
  "language_info": {
   "codemirror_mode": {
    "name": "ipython",
    "version": 3
   },
   "file_extension": ".py",
   "mimetype": "text/x-python",
   "name": "python",
   "nbconvert_exporter": "python",
   "pygments_lexer": "ipython3",
   "version": "3.7.3"
  }
 },
 "nbformat": 4,
 "nbformat_minor": 4
}
