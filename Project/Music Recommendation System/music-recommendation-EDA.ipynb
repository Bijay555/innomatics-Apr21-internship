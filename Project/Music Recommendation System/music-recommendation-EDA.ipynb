{
 "cells": [
  {
   "cell_type": "markdown",
   "metadata": {},
   "source": [
    "#### Song_id = Object\n",
    "Unique ID for every song in the dataset, in total there are 1000 songs in the dataset\n",
    "#### User_id = Object \n",
    "Unique ID for every user\n",
    "#### freq = int \n",
    "Number of times a song was listened by an user\n",
    "#### Artist_name = Str \n",
    "Name of Artist \n",
    "#### Release = Str\n",
    "Album to which the songs belong to\n",
    "#### track_id = Str\n",
    "unique id for each track"
   ]
  },
  {
   "cell_type": "code",
   "execution_count": 1,
   "metadata": {},
   "outputs": [],
   "source": [
    "import warnings\n",
    "warnings.filterwarnings('ignore')"
   ]
  },
  {
   "cell_type": "code",
   "execution_count": 2,
   "metadata": {},
   "outputs": [],
   "source": [
    "import numpy as np\n",
    "import pandas as pd\n",
    "import matplotlib.pyplot as plt\n",
    "import seaborn as sns\n",
    "\n",
    "import os\n",
    "import random\n",
    "from datetime import datetime\n",
    "\n",
    "from scipy import sparse\n",
    "from scipy.sparse import csr_matrix\n"
   ]
  },
  {
   "cell_type": "code",
   "execution_count": 3,
   "metadata": {},
   "outputs": [
    {
     "data": {
      "text/html": [
       "<div>\n",
       "<style scoped>\n",
       "    .dataframe tbody tr th:only-of-type {\n",
       "        vertical-align: middle;\n",
       "    }\n",
       "\n",
       "    .dataframe tbody tr th {\n",
       "        vertical-align: top;\n",
       "    }\n",
       "\n",
       "    .dataframe thead th {\n",
       "        text-align: right;\n",
       "    }\n",
       "</style>\n",
       "<table border=\"1\" class=\"dataframe\">\n",
       "  <thead>\n",
       "    <tr style=\"text-align: right;\">\n",
       "      <th></th>\n",
       "      <th>user_id</th>\n",
       "      <th>song_id</th>\n",
       "      <th>freq</th>\n",
       "    </tr>\n",
       "  </thead>\n",
       "  <tbody>\n",
       "    <tr>\n",
       "      <th>0</th>\n",
       "      <td>fd50c4007b68a3737fe052d5a4f78ce8aa117f3d</td>\n",
       "      <td>SOBONKR12A58A7A7E0</td>\n",
       "      <td>1</td>\n",
       "    </tr>\n",
       "    <tr>\n",
       "      <th>1</th>\n",
       "      <td>fd50c4007b68a3737fe052d5a4f78ce8aa117f3d</td>\n",
       "      <td>SOEGIYH12A6D4FC0E3</td>\n",
       "      <td>1</td>\n",
       "    </tr>\n",
       "    <tr>\n",
       "      <th>2</th>\n",
       "      <td>fd50c4007b68a3737fe052d5a4f78ce8aa117f3d</td>\n",
       "      <td>SOFLJQZ12A6D4FADA6</td>\n",
       "      <td>1</td>\n",
       "    </tr>\n",
       "    <tr>\n",
       "      <th>3</th>\n",
       "      <td>fd50c4007b68a3737fe052d5a4f78ce8aa117f3d</td>\n",
       "      <td>SOHTKMO12AB01843B0</td>\n",
       "      <td>1</td>\n",
       "    </tr>\n",
       "    <tr>\n",
       "      <th>4</th>\n",
       "      <td>fd50c4007b68a3737fe052d5a4f78ce8aa117f3d</td>\n",
       "      <td>SODQZCY12A6D4F9D11</td>\n",
       "      <td>1</td>\n",
       "    </tr>\n",
       "  </tbody>\n",
       "</table>\n",
       "</div>"
      ],
      "text/plain": [
       "                                    user_id             song_id  freq\n",
       "0  fd50c4007b68a3737fe052d5a4f78ce8aa117f3d  SOBONKR12A58A7A7E0     1\n",
       "1  fd50c4007b68a3737fe052d5a4f78ce8aa117f3d  SOEGIYH12A6D4FC0E3     1\n",
       "2  fd50c4007b68a3737fe052d5a4f78ce8aa117f3d  SOFLJQZ12A6D4FADA6     1\n",
       "3  fd50c4007b68a3737fe052d5a4f78ce8aa117f3d  SOHTKMO12AB01843B0     1\n",
       "4  fd50c4007b68a3737fe052d5a4f78ce8aa117f3d  SODQZCY12A6D4F9D11     1"
      ]
     },
     "execution_count": 3,
     "metadata": {},
     "output_type": "execute_result"
    }
   ],
   "source": [
    "df = pd.read_csv('kaggle_visible_evaluation_triplets.txt', sep='\\t',names=['user_id','song_id','freq'])\n",
    "df.head()"
   ]
  },
  {
   "cell_type": "code",
   "execution_count": 4,
   "metadata": {},
   "outputs": [
    {
     "data": {
      "text/plain": [
       "(1450933, 3)"
      ]
     },
     "execution_count": 4,
     "metadata": {},
     "output_type": "execute_result"
    }
   ],
   "source": [
    "df.shape"
   ]
  },
  {
   "cell_type": "code",
   "execution_count": 5,
   "metadata": {},
   "outputs": [
    {
     "data": {
      "text/plain": [
       "array(['fd50c4007b68a3737fe052d5a4f78ce8aa117f3d',\n",
       "       'd7083f5e1d50c264277d624340edaaf3dc16095b',\n",
       "       'd68dc6fc25248234590d7668a11e3335534ae4b4', ...,\n",
       "       'ab79461415bb9db956def3a897886d0754ddddfb',\n",
       "       'fc072bde2043756ea30ff07e4a5311e34825b4df',\n",
       "       '5e650759ebf89012044c6d52121eeada8b0ec814'], dtype=object)"
      ]
     },
     "execution_count": 5,
     "metadata": {},
     "output_type": "execute_result"
    }
   ],
   "source": [
    "df['user_id'].unique()"
   ]
  },
  {
   "cell_type": "code",
   "execution_count": null,
   "metadata": {},
   "outputs": [],
   "source": []
  },
  {
   "cell_type": "code",
   "execution_count": 6,
   "metadata": {},
   "outputs": [
    {
     "name": "stdout",
     "output_type": "stream",
     "text": [
      "<class 'pandas.core.frame.DataFrame'>\n",
      "RangeIndex: 1450933 entries, 0 to 1450932\n",
      "Data columns (total 3 columns):\n",
      "user_id    1450933 non-null object\n",
      "song_id    1450933 non-null object\n",
      "freq       1450933 non-null int64\n",
      "dtypes: int64(1), object(2)\n",
      "memory usage: 33.2+ MB\n"
     ]
    }
   ],
   "source": [
    "df.info()"
   ]
  },
  {
   "cell_type": "code",
   "execution_count": 7,
   "metadata": {},
   "outputs": [
    {
     "data": {
      "text/html": [
       "<div>\n",
       "<style scoped>\n",
       "    .dataframe tbody tr th:only-of-type {\n",
       "        vertical-align: middle;\n",
       "    }\n",
       "\n",
       "    .dataframe tbody tr th {\n",
       "        vertical-align: top;\n",
       "    }\n",
       "\n",
       "    .dataframe thead th {\n",
       "        text-align: right;\n",
       "    }\n",
       "</style>\n",
       "<table border=\"1\" class=\"dataframe\">\n",
       "  <thead>\n",
       "    <tr style=\"text-align: right;\">\n",
       "      <th></th>\n",
       "      <th>freq</th>\n",
       "    </tr>\n",
       "  </thead>\n",
       "  <tbody>\n",
       "    <tr>\n",
       "      <th>count</th>\n",
       "      <td>1.450933e+06</td>\n",
       "    </tr>\n",
       "    <tr>\n",
       "      <th>mean</th>\n",
       "      <td>3.187149e+00</td>\n",
       "    </tr>\n",
       "    <tr>\n",
       "      <th>std</th>\n",
       "      <td>7.051664e+00</td>\n",
       "    </tr>\n",
       "    <tr>\n",
       "      <th>min</th>\n",
       "      <td>1.000000e+00</td>\n",
       "    </tr>\n",
       "    <tr>\n",
       "      <th>25%</th>\n",
       "      <td>1.000000e+00</td>\n",
       "    </tr>\n",
       "    <tr>\n",
       "      <th>50%</th>\n",
       "      <td>1.000000e+00</td>\n",
       "    </tr>\n",
       "    <tr>\n",
       "      <th>75%</th>\n",
       "      <td>3.000000e+00</td>\n",
       "    </tr>\n",
       "    <tr>\n",
       "      <th>max</th>\n",
       "      <td>9.230000e+02</td>\n",
       "    </tr>\n",
       "  </tbody>\n",
       "</table>\n",
       "</div>"
      ],
      "text/plain": [
       "               freq\n",
       "count  1.450933e+06\n",
       "mean   3.187149e+00\n",
       "std    7.051664e+00\n",
       "min    1.000000e+00\n",
       "25%    1.000000e+00\n",
       "50%    1.000000e+00\n",
       "75%    3.000000e+00\n",
       "max    9.230000e+02"
      ]
     },
     "execution_count": 7,
     "metadata": {},
     "output_type": "execute_result"
    }
   ],
   "source": [
    "df.describe()"
   ]
  },
  {
   "cell_type": "markdown",
   "metadata": {},
   "source": [
    "Here we have information to collect:\n",
    "+ min=1 so all songs has been listened 1 or more times.\n",
    "+ max=923 so few popular songs has been played more often than others\n",
    "+ On average people listened to songs about 3 times.\n",
    "+ A large standard deviation indicates that the data points can spread far from the mean here std = 7.05 \n",
    "+ 25th percentile means that 25% of the accepted students made a 1 on the freq.\n",
    "+ 50th percentile means that 50% of the accepted students made a 1 on the freq. it is also called median\n",
    "+ 75th percentile means that 75% of the accepted students made a 3 or below on the freq.\n",
    "+ This also means that there are few frequency of 3 and above"
   ]
  },
  {
   "cell_type": "code",
   "execution_count": 8,
   "metadata": {},
   "outputs": [
    {
     "data": {
      "text/html": [
       "<div>\n",
       "<style scoped>\n",
       "    .dataframe tbody tr th:only-of-type {\n",
       "        vertical-align: middle;\n",
       "    }\n",
       "\n",
       "    .dataframe tbody tr th {\n",
       "        vertical-align: top;\n",
       "    }\n",
       "\n",
       "    .dataframe thead th {\n",
       "        text-align: right;\n",
       "    }\n",
       "</style>\n",
       "<table border=\"1\" class=\"dataframe\">\n",
       "  <thead>\n",
       "    <tr style=\"text-align: right;\">\n",
       "      <th></th>\n",
       "      <th>track_id</th>\n",
       "      <th>song_id</th>\n",
       "      <th>artist_name</th>\n",
       "      <th>song_release</th>\n",
       "    </tr>\n",
       "  </thead>\n",
       "  <tbody>\n",
       "    <tr>\n",
       "      <th>0</th>\n",
       "      <td>TRMMMYQ128F932D901</td>\n",
       "      <td>SOQMMHC12AB0180CB8</td>\n",
       "      <td>Faster Pussy cat</td>\n",
       "      <td>Silent Night</td>\n",
       "    </tr>\n",
       "    <tr>\n",
       "      <th>1</th>\n",
       "      <td>TRMMMKD128F425225D</td>\n",
       "      <td>SOVFVAK12A8C1350D9</td>\n",
       "      <td>Karkkiautomaatti</td>\n",
       "      <td>Tanssi vaan</td>\n",
       "    </tr>\n",
       "    <tr>\n",
       "      <th>2</th>\n",
       "      <td>TRMMMRX128F93187D9</td>\n",
       "      <td>SOGTUKN12AB017F4F1</td>\n",
       "      <td>Hudson Mohawke</td>\n",
       "      <td>No One Could Ever</td>\n",
       "    </tr>\n",
       "    <tr>\n",
       "      <th>3</th>\n",
       "      <td>TRMMMCH128F425532C</td>\n",
       "      <td>SOBNYVR12A8C13558C</td>\n",
       "      <td>Yerba Brava</td>\n",
       "      <td>Si Vos QuerÃ©s</td>\n",
       "    </tr>\n",
       "    <tr>\n",
       "      <th>4</th>\n",
       "      <td>TRMMMWA128F426B589</td>\n",
       "      <td>SOHSBXH12A8C13B0DF</td>\n",
       "      <td>Der Mystic</td>\n",
       "      <td>Tangle Of Aspens</td>\n",
       "    </tr>\n",
       "  </tbody>\n",
       "</table>\n",
       "</div>"
      ],
      "text/plain": [
       "             track_id             song_id       artist_name       song_release\n",
       "0  TRMMMYQ128F932D901  SOQMMHC12AB0180CB8  Faster Pussy cat       Silent Night\n",
       "1  TRMMMKD128F425225D  SOVFVAK12A8C1350D9  Karkkiautomaatti        Tanssi vaan\n",
       "2  TRMMMRX128F93187D9  SOGTUKN12AB017F4F1    Hudson Mohawke  No One Could Ever\n",
       "3  TRMMMCH128F425532C  SOBNYVR12A8C13558C       Yerba Brava     Si Vos QuerÃ©s\n",
       "4  TRMMMWA128F426B589  SOHSBXH12A8C13B0DF        Der Mystic   Tangle Of Aspens"
      ]
     },
     "execution_count": 8,
     "metadata": {},
     "output_type": "execute_result"
    }
   ],
   "source": [
    "unique_tracks_df = pd.read_csv('unique_tracks.txt', sep='<SEP>',names=['track_id','song_id','artist_name','song_release'])\n",
    "unique_tracks_df.head()"
   ]
  },
  {
   "cell_type": "code",
   "execution_count": 9,
   "metadata": {},
   "outputs": [
    {
     "data": {
      "text/plain": [
       "(1000000, 4)"
      ]
     },
     "execution_count": 9,
     "metadata": {},
     "output_type": "execute_result"
    }
   ],
   "source": [
    "unique_tracks_df.shape"
   ]
  },
  {
   "cell_type": "code",
   "execution_count": 10,
   "metadata": {},
   "outputs": [
    {
     "name": "stdout",
     "output_type": "stream",
     "text": [
      "<class 'pandas.core.frame.DataFrame'>\n",
      "RangeIndex: 1000000 entries, 0 to 999999\n",
      "Data columns (total 4 columns):\n",
      "track_id        1000000 non-null object\n",
      "song_id         1000000 non-null object\n",
      "artist_name     1000000 non-null object\n",
      "song_release    999985 non-null object\n",
      "dtypes: object(4)\n",
      "memory usage: 30.5+ MB\n"
     ]
    }
   ],
   "source": [
    "unique_tracks_df.info()"
   ]
  },
  {
   "cell_type": "code",
   "execution_count": 11,
   "metadata": {},
   "outputs": [
    {
     "data": {
      "text/html": [
       "<div>\n",
       "<style scoped>\n",
       "    .dataframe tbody tr th:only-of-type {\n",
       "        vertical-align: middle;\n",
       "    }\n",
       "\n",
       "    .dataframe tbody tr th {\n",
       "        vertical-align: top;\n",
       "    }\n",
       "\n",
       "    .dataframe thead th {\n",
       "        text-align: right;\n",
       "    }\n",
       "</style>\n",
       "<table border=\"1\" class=\"dataframe\">\n",
       "  <thead>\n",
       "    <tr style=\"text-align: right;\">\n",
       "      <th></th>\n",
       "      <th>track_id</th>\n",
       "      <th>song_id</th>\n",
       "      <th>artist_name</th>\n",
       "      <th>song_release</th>\n",
       "    </tr>\n",
       "  </thead>\n",
       "  <tbody>\n",
       "    <tr>\n",
       "      <th>count</th>\n",
       "      <td>1000000</td>\n",
       "      <td>1000000</td>\n",
       "      <td>1000000</td>\n",
       "      <td>999985</td>\n",
       "    </tr>\n",
       "    <tr>\n",
       "      <th>unique</th>\n",
       "      <td>1000000</td>\n",
       "      <td>999056</td>\n",
       "      <td>72665</td>\n",
       "      <td>702059</td>\n",
       "    </tr>\n",
       "    <tr>\n",
       "      <th>top</th>\n",
       "      <td>TRJRIDZ12903CE8521</td>\n",
       "      <td>SOJRFWQ12AB0183582</td>\n",
       "      <td>Michael Jackson</td>\n",
       "      <td>Intro</td>\n",
       "    </tr>\n",
       "    <tr>\n",
       "      <th>freq</th>\n",
       "      <td>1</td>\n",
       "      <td>3</td>\n",
       "      <td>194</td>\n",
       "      <td>1511</td>\n",
       "    </tr>\n",
       "  </tbody>\n",
       "</table>\n",
       "</div>"
      ],
      "text/plain": [
       "                  track_id             song_id      artist_name song_release\n",
       "count              1000000             1000000          1000000       999985\n",
       "unique             1000000              999056            72665       702059\n",
       "top     TRJRIDZ12903CE8521  SOJRFWQ12AB0183582  Michael Jackson        Intro\n",
       "freq                     1                   3              194         1511"
      ]
     },
     "execution_count": 11,
     "metadata": {},
     "output_type": "execute_result"
    }
   ],
   "source": [
    "unique_tracks_df.describe()"
   ]
  },
  {
   "cell_type": "markdown",
   "metadata": {},
   "source": [
    "###  Checking the Missing Values"
   ]
  },
  {
   "cell_type": "code",
   "execution_count": 12,
   "metadata": {},
   "outputs": [
    {
     "name": "stdout",
     "output_type": "stream",
     "text": [
      "0 1\n"
     ]
    }
   ],
   "source": [
    "print(sum(df.isnull().any()), sum(unique_tracks_df.isnull().any()))"
   ]
  },
  {
   "cell_type": "code",
   "execution_count": 13,
   "metadata": {},
   "outputs": [
    {
     "data": {
      "text/plain": [
       "15"
      ]
     },
     "execution_count": 13,
     "metadata": {},
     "output_type": "execute_result"
    }
   ],
   "source": [
    "unique_tracks_df['song_release'].isnull().sum()"
   ]
  },
  {
   "cell_type": "code",
   "execution_count": 14,
   "metadata": {},
   "outputs": [
    {
     "data": {
      "text/plain": [
       "0"
      ]
     },
     "execution_count": 14,
     "metadata": {},
     "output_type": "execute_result"
    }
   ],
   "source": [
    "duplicated = df.duplicated()\n",
    "sum(duplicated)"
   ]
  },
  {
   "cell_type": "code",
   "execution_count": 15,
   "metadata": {},
   "outputs": [
    {
     "data": {
      "text/plain": [
       "0"
      ]
     },
     "execution_count": 15,
     "metadata": {},
     "output_type": "execute_result"
    }
   ],
   "source": [
    "duplicated = unique_tracks_df.duplicated()\n",
    "sum(duplicated)"
   ]
  },
  {
   "cell_type": "code",
   "execution_count": 16,
   "metadata": {},
   "outputs": [
    {
     "data": {
      "text/plain": [
       "944"
      ]
     },
     "execution_count": 16,
     "metadata": {},
     "output_type": "execute_result"
    }
   ],
   "source": [
    "duplicated = unique_tracks_df['song_id'].duplicated()\n",
    "sum(duplicated)"
   ]
  },
  {
   "cell_type": "code",
   "execution_count": 17,
   "metadata": {},
   "outputs": [
    {
     "data": {
      "text/plain": [
       "927335"
      ]
     },
     "execution_count": 17,
     "metadata": {},
     "output_type": "execute_result"
    }
   ],
   "source": [
    "duplicated = unique_tracks_df['artist_name'].duplicated()\n",
    "sum(duplicated)"
   ]
  },
  {
   "cell_type": "code",
   "execution_count": 18,
   "metadata": {},
   "outputs": [
    {
     "data": {
      "text/plain": [
       "297940"
      ]
     },
     "execution_count": 18,
     "metadata": {},
     "output_type": "execute_result"
    }
   ],
   "source": [
    "duplicated = unique_tracks_df['song_release'].duplicated()\n",
    "sum(duplicated)"
   ]
  },
  {
   "cell_type": "markdown",
   "metadata": {},
   "source": [
    "### Merge the DataFrame"
   ]
  },
  {
   "cell_type": "code",
   "execution_count": 19,
   "metadata": {},
   "outputs": [
    {
     "data": {
      "text/html": [
       "<div>\n",
       "<style scoped>\n",
       "    .dataframe tbody tr th:only-of-type {\n",
       "        vertical-align: middle;\n",
       "    }\n",
       "\n",
       "    .dataframe tbody tr th {\n",
       "        vertical-align: top;\n",
       "    }\n",
       "\n",
       "    .dataframe thead th {\n",
       "        text-align: right;\n",
       "    }\n",
       "</style>\n",
       "<table border=\"1\" class=\"dataframe\">\n",
       "  <thead>\n",
       "    <tr style=\"text-align: right;\">\n",
       "      <th></th>\n",
       "      <th>user_id</th>\n",
       "      <th>song_id</th>\n",
       "      <th>freq</th>\n",
       "      <th>track_id</th>\n",
       "      <th>artist_name</th>\n",
       "      <th>song_release</th>\n",
       "    </tr>\n",
       "  </thead>\n",
       "  <tbody>\n",
       "    <tr>\n",
       "      <th>0</th>\n",
       "      <td>fd50c4007b68a3737fe052d5a4f78ce8aa117f3d</td>\n",
       "      <td>SOBONKR12A58A7A7E0</td>\n",
       "      <td>1</td>\n",
       "      <td>TRAEHHJ12903CF492F</td>\n",
       "      <td>Dwight Yoakam</td>\n",
       "      <td>You're The One</td>\n",
       "    </tr>\n",
       "    <tr>\n",
       "      <th>1</th>\n",
       "      <td>fd50c4007b68a3737fe052d5a4f78ce8aa117f3d</td>\n",
       "      <td>SOEGIYH12A6D4FC0E3</td>\n",
       "      <td>1</td>\n",
       "      <td>TRLGMFJ128F4217DBE</td>\n",
       "      <td>Barry Tuckwell/Academy of St Martin-in-the-Fie...</td>\n",
       "      <td>Horn Concerto No. 4 in E flat K495: II. Romanc...</td>\n",
       "    </tr>\n",
       "    <tr>\n",
       "      <th>2</th>\n",
       "      <td>fd50c4007b68a3737fe052d5a4f78ce8aa117f3d</td>\n",
       "      <td>SOFLJQZ12A6D4FADA6</td>\n",
       "      <td>1</td>\n",
       "      <td>TRTNDNE128F1486812</td>\n",
       "      <td>Cartola</td>\n",
       "      <td>Tive Sim</td>\n",
       "    </tr>\n",
       "    <tr>\n",
       "      <th>3</th>\n",
       "      <td>fd50c4007b68a3737fe052d5a4f78ce8aa117f3d</td>\n",
       "      <td>SOHTKMO12AB01843B0</td>\n",
       "      <td>1</td>\n",
       "      <td>TRASTUE128F930D488</td>\n",
       "      <td>Lonnie Gordon</td>\n",
       "      <td>Catch You Baby (Steve Pitron &amp; Max Sanna Radio...</td>\n",
       "    </tr>\n",
       "    <tr>\n",
       "      <th>4</th>\n",
       "      <td>fd50c4007b68a3737fe052d5a4f78ce8aa117f3d</td>\n",
       "      <td>SODQZCY12A6D4F9D11</td>\n",
       "      <td>1</td>\n",
       "      <td>TRFPLWO128F1486B9E</td>\n",
       "      <td>Miguel Calo</td>\n",
       "      <td>El Cuatrero</td>\n",
       "    </tr>\n",
       "    <tr>\n",
       "      <th>5</th>\n",
       "      <td>fd50c4007b68a3737fe052d5a4f78ce8aa117f3d</td>\n",
       "      <td>SOXLOQG12AF72A2D55</td>\n",
       "      <td>1</td>\n",
       "      <td>TRWBSCZ128F932F2F9</td>\n",
       "      <td>Beastie Boys</td>\n",
       "      <td>Unite (2009 Digital Remaster)</td>\n",
       "    </tr>\n",
       "    <tr>\n",
       "      <th>6</th>\n",
       "      <td>d7083f5e1d50c264277d624340edaaf3dc16095b</td>\n",
       "      <td>SOUVUHC12A67020E3B</td>\n",
       "      <td>1</td>\n",
       "      <td>TRCQXMT128E0786397</td>\n",
       "      <td>Moby</td>\n",
       "      <td>Lift Me Up</td>\n",
       "    </tr>\n",
       "    <tr>\n",
       "      <th>7</th>\n",
       "      <td>d7083f5e1d50c264277d624340edaaf3dc16095b</td>\n",
       "      <td>SOUQERE12A58A75633</td>\n",
       "      <td>1</td>\n",
       "      <td>TRZLFVB128F429FED0</td>\n",
       "      <td>Guano Apes</td>\n",
       "      <td>Living In A Lie</td>\n",
       "    </tr>\n",
       "    <tr>\n",
       "      <th>8</th>\n",
       "      <td>d7083f5e1d50c264277d624340edaaf3dc16095b</td>\n",
       "      <td>SOIPJAX12A8C141A2D</td>\n",
       "      <td>1</td>\n",
       "      <td>TRIKCQI128F92DDC16</td>\n",
       "      <td>Guano Apes</td>\n",
       "      <td>Open Your Eyes</td>\n",
       "    </tr>\n",
       "    <tr>\n",
       "      <th>9</th>\n",
       "      <td>d7083f5e1d50c264277d624340edaaf3dc16095b</td>\n",
       "      <td>SOEFCDJ12AB0185FA0</td>\n",
       "      <td>2</td>\n",
       "      <td>TRTBQQG128F9339E23</td>\n",
       "      <td>UDG</td>\n",
       "      <td>Kurtizana</td>\n",
       "    </tr>\n",
       "  </tbody>\n",
       "</table>\n",
       "</div>"
      ],
      "text/plain": [
       "                                    user_id             song_id  freq  \\\n",
       "0  fd50c4007b68a3737fe052d5a4f78ce8aa117f3d  SOBONKR12A58A7A7E0     1   \n",
       "1  fd50c4007b68a3737fe052d5a4f78ce8aa117f3d  SOEGIYH12A6D4FC0E3     1   \n",
       "2  fd50c4007b68a3737fe052d5a4f78ce8aa117f3d  SOFLJQZ12A6D4FADA6     1   \n",
       "3  fd50c4007b68a3737fe052d5a4f78ce8aa117f3d  SOHTKMO12AB01843B0     1   \n",
       "4  fd50c4007b68a3737fe052d5a4f78ce8aa117f3d  SODQZCY12A6D4F9D11     1   \n",
       "5  fd50c4007b68a3737fe052d5a4f78ce8aa117f3d  SOXLOQG12AF72A2D55     1   \n",
       "6  d7083f5e1d50c264277d624340edaaf3dc16095b  SOUVUHC12A67020E3B     1   \n",
       "7  d7083f5e1d50c264277d624340edaaf3dc16095b  SOUQERE12A58A75633     1   \n",
       "8  d7083f5e1d50c264277d624340edaaf3dc16095b  SOIPJAX12A8C141A2D     1   \n",
       "9  d7083f5e1d50c264277d624340edaaf3dc16095b  SOEFCDJ12AB0185FA0     2   \n",
       "\n",
       "             track_id                                        artist_name  \\\n",
       "0  TRAEHHJ12903CF492F                                      Dwight Yoakam   \n",
       "1  TRLGMFJ128F4217DBE  Barry Tuckwell/Academy of St Martin-in-the-Fie...   \n",
       "2  TRTNDNE128F1486812                                            Cartola   \n",
       "3  TRASTUE128F930D488                                      Lonnie Gordon   \n",
       "4  TRFPLWO128F1486B9E                                        Miguel Calo   \n",
       "5  TRWBSCZ128F932F2F9                                       Beastie Boys   \n",
       "6  TRCQXMT128E0786397                                               Moby   \n",
       "7  TRZLFVB128F429FED0                                         Guano Apes   \n",
       "8  TRIKCQI128F92DDC16                                         Guano Apes   \n",
       "9  TRTBQQG128F9339E23                                                UDG   \n",
       "\n",
       "                                        song_release  \n",
       "0                                     You're The One  \n",
       "1  Horn Concerto No. 4 in E flat K495: II. Romanc...  \n",
       "2                                           Tive Sim  \n",
       "3  Catch You Baby (Steve Pitron & Max Sanna Radio...  \n",
       "4                                        El Cuatrero  \n",
       "5                      Unite (2009 Digital Remaster)  \n",
       "6                                         Lift Me Up  \n",
       "7                                    Living In A Lie  \n",
       "8                                     Open Your Eyes  \n",
       "9                                          Kurtizana  "
      ]
     },
     "execution_count": 19,
     "metadata": {},
     "output_type": "execute_result"
    }
   ],
   "source": [
    "merged_df = pd.merge(df, unique_tracks_df, on='song_id', how='left')\n",
    "merged_df.head(10)"
   ]
  },
  {
   "cell_type": "code",
   "execution_count": 20,
   "metadata": {},
   "outputs": [
    {
     "data": {
      "text/plain": [
       "(1491952, 6)"
      ]
     },
     "execution_count": 20,
     "metadata": {},
     "output_type": "execute_result"
    }
   ],
   "source": [
    "merged_df.shape"
   ]
  },
  {
   "cell_type": "code",
   "execution_count": 21,
   "metadata": {},
   "outputs": [
    {
     "name": "stdout",
     "output_type": "stream",
     "text": [
      "Total data poins: 1491952\n",
      "Total number of unique users:  110000\n",
      "Total number of unique songs:  163206\n",
      "Total number of unique tracks:  163828\n"
     ]
    }
   ],
   "source": [
    "print('Total data poins:' ,merged_df.shape[0])\n",
    "print('Total number of unique users: ',merged_df['user_id'].unique().shape[0])\n",
    "print('Total number of unique songs: ',merged_df['song_id'].unique().shape[0])\n",
    "print('Total number of unique tracks: ',merged_df['track_id'].unique().shape[0])"
   ]
  },
  {
   "cell_type": "code",
   "execution_count": 22,
   "metadata": {},
   "outputs": [
    {
     "name": "stdout",
     "output_type": "stream",
     "text": [
      "Total number of unique song releases:  137675\n",
      "Total number of unique artists:  28367\n"
     ]
    }
   ],
   "source": [
    "print('Total number of unique song releases: ',merged_df['song_release'].unique().shape[0])\n",
    "print('Total number of unique artists: ',merged_df['artist_name'].unique().shape[0])"
   ]
  },
  {
   "cell_type": "code",
   "execution_count": 23,
   "metadata": {},
   "outputs": [
    {
     "data": {
      "text/html": [
       "<div>\n",
       "<style scoped>\n",
       "    .dataframe tbody tr th:only-of-type {\n",
       "        vertical-align: middle;\n",
       "    }\n",
       "\n",
       "    .dataframe tbody tr th {\n",
       "        vertical-align: top;\n",
       "    }\n",
       "\n",
       "    .dataframe thead th {\n",
       "        text-align: right;\n",
       "    }\n",
       "</style>\n",
       "<table border=\"1\" class=\"dataframe\">\n",
       "  <thead>\n",
       "    <tr style=\"text-align: right;\">\n",
       "      <th></th>\n",
       "      <th>freq</th>\n",
       "    </tr>\n",
       "  </thead>\n",
       "  <tbody>\n",
       "    <tr>\n",
       "      <th>count</th>\n",
       "      <td>1.491952e+06</td>\n",
       "    </tr>\n",
       "    <tr>\n",
       "      <th>mean</th>\n",
       "      <td>3.179719e+00</td>\n",
       "    </tr>\n",
       "    <tr>\n",
       "      <th>std</th>\n",
       "      <td>7.015023e+00</td>\n",
       "    </tr>\n",
       "    <tr>\n",
       "      <th>min</th>\n",
       "      <td>1.000000e+00</td>\n",
       "    </tr>\n",
       "    <tr>\n",
       "      <th>25%</th>\n",
       "      <td>1.000000e+00</td>\n",
       "    </tr>\n",
       "    <tr>\n",
       "      <th>50%</th>\n",
       "      <td>1.000000e+00</td>\n",
       "    </tr>\n",
       "    <tr>\n",
       "      <th>75%</th>\n",
       "      <td>3.000000e+00</td>\n",
       "    </tr>\n",
       "    <tr>\n",
       "      <th>max</th>\n",
       "      <td>9.230000e+02</td>\n",
       "    </tr>\n",
       "  </tbody>\n",
       "</table>\n",
       "</div>"
      ],
      "text/plain": [
       "               freq\n",
       "count  1.491952e+06\n",
       "mean   3.179719e+00\n",
       "std    7.015023e+00\n",
       "min    1.000000e+00\n",
       "25%    1.000000e+00\n",
       "50%    1.000000e+00\n",
       "75%    3.000000e+00\n",
       "max    9.230000e+02"
      ]
     },
     "execution_count": 23,
     "metadata": {},
     "output_type": "execute_result"
    }
   ],
   "source": [
    "merged_df.describe()"
   ]
  },
  {
   "cell_type": "markdown",
   "metadata": {},
   "source": [
    "### Data Analysis"
   ]
  },
  {
   "cell_type": "code",
   "execution_count": 24,
   "metadata": {},
   "outputs": [
    {
     "data": {
      "text/plain": [
       "song_release\n",
       "Drop The Hammer (Album Version)    923.0\n",
       "Believe In Yourself                537.0\n",
       "SyntymÃ¤pÃ¤ivÃ¤                    307.0\n",
       "Christian Resistance               193.0\n",
       "Back To Allentown                  185.0\n",
       "Name: freq, dtype: float64"
      ]
     },
     "execution_count": 24,
     "metadata": {},
     "output_type": "execute_result"
    }
   ],
   "source": [
    "# Calculate mean freq of top songs\n",
    "merged_df.groupby('song_release')['freq'].mean().sort_values(ascending=False).head()"
   ]
  },
  {
   "cell_type": "code",
   "execution_count": 25,
   "metadata": {},
   "outputs": [
    {
     "data": {
      "text/plain": [
       "artist_name\n",
       "Kilgore                        462.0\n",
       "Merle Travis And Joe Maphis    131.0\n",
       "The Family Stand               125.0\n",
       "Giuseppe Di Stefano            117.0\n",
       "Mousse T.                      112.0\n",
       "Name: freq, dtype: float64"
      ]
     },
     "execution_count": 25,
     "metadata": {},
     "output_type": "execute_result"
    }
   ],
   "source": [
    "# Calculate mean freq of artist\n",
    "merged_df.groupby('artist_name')['freq'].mean().sort_values(ascending=False).head()"
   ]
  },
  {
   "cell_type": "code",
   "execution_count": 26,
   "metadata": {},
   "outputs": [
    {
     "data": {
      "text/plain": [
       "song_release\n",
       "Sehr kosmisch                     5043\n",
       "Undo                              4483\n",
       "You're The One                    4270\n",
       "Use Somebody                      3822\n",
       "Dog Days Are Over (Radio Edit)    3780\n",
       "Name: freq, dtype: int64"
      ]
     },
     "execution_count": 26,
     "metadata": {},
     "output_type": "execute_result"
    }
   ],
   "source": [
    "# Calculate count rating of all songs\n",
    "merged_df.groupby('song_release')['freq'].count().sort_values(ascending=False).head()"
   ]
  },
  {
   "cell_type": "code",
   "execution_count": 27,
   "metadata": {},
   "outputs": [
    {
     "data": {
      "text/plain": [
       "artist_name\n",
       "Coldplay                  13675\n",
       "Kings Of Leon             11586\n",
       "Justin Bieber              9259\n",
       "Florence + The Machine     8213\n",
       "Eminem                     8160\n",
       "Name: freq, dtype: int64"
      ]
     },
     "execution_count": 27,
     "metadata": {},
     "output_type": "execute_result"
    }
   ],
   "source": [
    "merged_df.groupby('artist_name')['freq'].count().sort_values(ascending=False).head()"
   ]
  },
  {
   "cell_type": "code",
   "execution_count": 28,
   "metadata": {},
   "outputs": [
    {
     "data": {
      "text/plain": [
       "array(['Yellow', 'The Scientist', 'Fix You', \"Don't Panic\", 'Sparks',\n",
       "       'Clocks', 'Life In Technicolor ii', 'Such A Rush',\n",
       "       'Fix You (Live)', 'Speed Of Sound', 'Lost!',\n",
       "       'God Put A Smile Upon Your Face', 'Brothers & Sisters',\n",
       "       'A Rush Of Blood To The Head', 'Clocks (Live In Sydney)',\n",
       "       'One I Love', 'For You', 'You Only Live Twice (Live From Norway)',\n",
       "       'Shiver', 'Swallowed In The Sea', 'In My Place',\n",
       "       'Postcards From Far Away', 'Glass Of Water',\n",
       "       \"Things I Don't Understand\", 'Strawberry Swing', '42',\n",
       "       'Til Kingdom Come', 'The Goldrush', 'X & Y', 'Life In Technicolor',\n",
       "       'We Never Change', 'Bigger Stronger', 'What If', 'Trouble',\n",
       "       \"Everything's Not Lost (Includes Hidden Track 'Life Is For Living')\",\n",
       "       'Only Superstition', 'Politik', 'Careful Where You Stand',\n",
       "       'Warning Sign', 'See You Soon', 'Spies', 'Cemeteries Of London',\n",
       "       'A Whisper', 'A Message', 'Square One', 'Low', 'I Bloom Blaum',\n",
       "       'I Ran Away', 'The World Turned Upside Down',\n",
       "       'Talk (Junkie XL Remix)', 'Help Is Round The Corner', 'Daylight',\n",
       "       'Yes', 'High Speed', \"Now My Feet Won't Touch The Ground\",\n",
       "       'Twisted Logic', 'Violet Hill', 'White Shadows',\n",
       "       'See You Soon (Live In Sydney)', 'Proof', 'Amsterdam', '1.36',\n",
       "       'Shiver (Live In Sydney)',\n",
       "       \"Everything's Not Lost (Live In Sydney)\",\n",
       "       'A Rush Of Blood To The Head (Live In Sydney)',\n",
       "       'Yellow (Live In Sydney)', 'Talk (Francois K Dub)', 'Sleeping Sun',\n",
       "       'Pour Me (Live At The Hollywood Bowl)', 'Lost?',\n",
       "       'Moses (Live In Sydney)',\n",
       "       'Life In Technicolor ii (Live @ The O2_ London)',\n",
       "       'In My Place (Live In Sydney)', 'Talk (Thin White Duke Mix)',\n",
       "       'Speed Of Sound (Live)', 'Amsterdam (Live In Sydney)'],\n",
       "      dtype=object)"
      ]
     },
     "execution_count": 28,
     "metadata": {},
     "output_type": "execute_result"
    }
   ],
   "source": [
    "merged_df.loc[merged_df['artist_name'] == 'Coldplay', 'song_release'].unique()"
   ]
  },
  {
   "cell_type": "code",
   "execution_count": 29,
   "metadata": {},
   "outputs": [
    {
     "data": {
      "text/plain": [
       "artist_name\n",
       "False    1482693\n",
       "True        9259\n",
       "Name: freq, dtype: int64"
      ]
     },
     "execution_count": 29,
     "metadata": {},
     "output_type": "execute_result"
    }
   ],
   "source": [
    "# Calculate count rating of all movies\n",
    "merged_df.groupby(merged_df['artist_name'] == 'Justin Bieber')['freq'].count().sort_values(ascending=False).head()"
   ]
  },
  {
   "cell_type": "code",
   "execution_count": 30,
   "metadata": {},
   "outputs": [
    {
     "data": {
      "text/plain": [
       "array(['Somebody To Love', 'Down To Earth', 'One Time', 'U Smile',\n",
       "       'Favorite Girl', 'Love Me', 'Common Denominator',\n",
       "       'Never Let You Go', 'Stuck In The Moment', 'Up',\n",
       "       'One Less Lonely Girl', 'That Should Be Me', 'Bigger',\n",
       "       'Runaway Love'], dtype=object)"
      ]
     },
     "execution_count": 30,
     "metadata": {},
     "output_type": "execute_result"
    }
   ],
   "source": [
    "merged_df.loc[merged_df['artist_name'] == 'Justin Bieber', 'song_release'].unique()"
   ]
  },
  {
   "cell_type": "code",
   "execution_count": 31,
   "metadata": {},
   "outputs": [
    {
     "data": {
      "image/png": "[encoded data removed]",
      "text/plain": [
       "<Figure size 720x288 with 1 Axes>"
      ]
     },
     "metadata": {
      "needs_background": "light"
     },
     "output_type": "display_data"
    }
   ],
   "source": [
    "# plot graph of 'num of ratings column'\n",
    "plt.figure(figsize =(10, 4))\n",
    "  \n",
    "merged_df['freq'].hist(bins = 70)\n",
    "plt.xlabel('Freq')\n",
    "plt.show()"
   ]
  },
  {
   "cell_type": "code",
   "execution_count": 32,
   "metadata": {},
   "outputs": [
    {
     "data": {
      "text/plain": [
       "user_id\n",
       "00007a02388c208ea7176479f6ae06f8224355b3     13\n",
       "00014a76ed063e1a749171a253bca9d9a0ff1782     24\n",
       "00015189668691680bb1a2e58afde1541ec92ced    101\n",
       "0001ff7aa2667c8d8b945317b88adaed1c0b9dc2     12\n",
       "00020fcd8b01986a6a85b896ccde6c49f35142ad     44\n",
       "Name: freq, dtype: int64"
      ]
     },
     "execution_count": 32,
     "metadata": {},
     "output_type": "execute_result"
    }
   ],
   "source": [
    "songs_per_user=merged_df.groupby(['user_id'])['freq'].sum()\n",
    "songs_per_user.head()"
   ]
  },
  {
   "cell_type": "code",
   "execution_count": 33,
   "metadata": {},
   "outputs": [
    {
     "data": {
      "text/plain": [
       "user_id\n",
       "1858b9d771784f35b11587d4848604d5686e2e6a    5\n",
       "105e070c30b924ad8c12dfc93879510fffce9e9f    5\n",
       "473faa31a070d046588438a24838ee2ea59ba75a    5\n",
       "4117443d6ef69fdf555b736782bed19a2bf73218    5\n",
       "23a0d4a8ba71eef8abd4e4e4dd83060952c703f7    5\n",
       "Name: freq, dtype: int64"
      ]
     },
     "execution_count": 33,
     "metadata": {},
     "output_type": "execute_result"
    }
   ],
   "source": [
    "songs_per_user.sort_values().head()"
   ]
  },
  {
   "cell_type": "code",
   "execution_count": 34,
   "metadata": {},
   "outputs": [
    {
     "data": {
      "text/plain": [
       "user_id\n",
       "957440a77858369fb7a6bcc6fa408fc187d5bd7b    1187\n",
       "c6150292374fb1dad89982367b3245dd5004c718    1192\n",
       "1c5aa998482a40abfd020759e7d757eb6c510e72    1213\n",
       "090b841eaf56d343a26625c2c6d08b823927bc4f    1305\n",
       "938c2632d43eeadb8a83a7cc254d014f9cea6afe    1369\n",
       "Name: freq, dtype: int64"
      ]
     },
     "execution_count": 34,
     "metadata": {},
     "output_type": "execute_result"
    }
   ],
   "source": [
    "songs_per_user.sort_values().tail()"
   ]
  },
  {
   "cell_type": "code",
   "execution_count": 35,
   "metadata": {},
   "outputs": [
    {
     "data": {
      "text/plain": [
       "count    110000.000000\n",
       "mean         43.127164\n",
       "std          54.818120\n",
       "min           5.000000\n",
       "25%          13.000000\n",
       "50%          26.000000\n",
       "75%          51.000000\n",
       "max        1369.000000\n",
       "Name: freq, dtype: float64"
      ]
     },
     "execution_count": 35,
     "metadata": {},
     "output_type": "execute_result"
    }
   ],
   "source": [
    "songs_per_user.describe()"
   ]
  },
  {
   "cell_type": "code",
   "execution_count": 36,
   "metadata": {},
   "outputs": [
    {
     "data": {
      "image/png": "[encoded data removed]",
      "text/plain": [
       "<Figure size 432x288 with 1 Axes>"
      ]
     },
     "metadata": {
      "needs_background": "light"
     },
     "output_type": "display_data"
    }
   ],
   "source": [
    "plt.xlabel('Number of Songs per user')\n",
    "sns.kdeplot(songs_per_user)\n",
    "plt.show()"
   ]
  },
  {
   "cell_type": "code",
   "execution_count": 37,
   "metadata": {},
   "outputs": [
    {
     "data": {
      "text/html": [
       "<div>\n",
       "<style scoped>\n",
       "    .dataframe tbody tr th:only-of-type {\n",
       "        vertical-align: middle;\n",
       "    }\n",
       "\n",
       "    .dataframe tbody tr th {\n",
       "        vertical-align: top;\n",
       "    }\n",
       "\n",
       "    .dataframe thead th {\n",
       "        text-align: right;\n",
       "    }\n",
       "</style>\n",
       "<table border=\"1\" class=\"dataframe\">\n",
       "  <thead>\n",
       "    <tr style=\"text-align: right;\">\n",
       "      <th></th>\n",
       "      <th>freq</th>\n",
       "    </tr>\n",
       "    <tr>\n",
       "      <th>song_release</th>\n",
       "      <th></th>\n",
       "    </tr>\n",
       "  </thead>\n",
       "  <tbody>\n",
       "    <tr>\n",
       "      <th>You're The One</th>\n",
       "      <td>35738</td>\n",
       "    </tr>\n",
       "    <tr>\n",
       "      <th>Undo</th>\n",
       "      <td>33179</td>\n",
       "    </tr>\n",
       "    <tr>\n",
       "      <th>Revelry</th>\n",
       "      <td>24359</td>\n",
       "    </tr>\n",
       "    <tr>\n",
       "      <th>Sehr kosmisch</th>\n",
       "      <td>19454</td>\n",
       "    </tr>\n",
       "    <tr>\n",
       "      <th>Horn Concerto No. 4 in E flat K495: II. Romance (Andante cantabile)</th>\n",
       "      <td>17115</td>\n",
       "    </tr>\n",
       "    <tr>\n",
       "      <th>Dog Days Are Over (Radio Edit)</th>\n",
       "      <td>14279</td>\n",
       "    </tr>\n",
       "    <tr>\n",
       "      <th>Secrets</th>\n",
       "      <td>12492</td>\n",
       "    </tr>\n",
       "    <tr>\n",
       "      <th>Ain't Misbehavin</th>\n",
       "      <td>11610</td>\n",
       "    </tr>\n",
       "    <tr>\n",
       "      <th>Somebody To Love</th>\n",
       "      <td>11377</td>\n",
       "    </tr>\n",
       "    <tr>\n",
       "      <th>Use Somebody</th>\n",
       "      <td>10926</td>\n",
       "    </tr>\n",
       "  </tbody>\n",
       "</table>\n",
       "</div>"
      ],
      "text/plain": [
       "                                                     freq\n",
       "song_release                                             \n",
       "You're The One                                      35738\n",
       "Undo                                                33179\n",
       "Revelry                                             24359\n",
       "Sehr kosmisch                                       19454\n",
       "Horn Concerto No. 4 in E flat K495: II. Romance...  17115\n",
       "Dog Days Are Over (Radio Edit)                      14279\n",
       "Secrets                                             12492\n",
       "Ain't Misbehavin                                    11610\n",
       "Somebody To Love                                    11377\n",
       "Use Somebody                                        10926"
      ]
     },
     "execution_count": 37,
     "metadata": {},
     "output_type": "execute_result"
    }
   ],
   "source": [
    "merged_df[['song_release', 'freq']].groupby('song_release').sum().sort_values(by='freq', ascending=False)[:10]"
   ]
  },
  {
   "cell_type": "code",
   "execution_count": 38,
   "metadata": {},
   "outputs": [],
   "source": [
    "def flatten_cols(df):\n",
    "  df.columns = [' '.join(col).strip() for col in df.columns.values]\n",
    "  return df\n",
    "pd.DataFrame.flatten_cols = flatten_cols"
   ]
  },
  {
   "cell_type": "code",
   "execution_count": 39,
   "metadata": {},
   "outputs": [],
   "source": [
    "song_ratings = unique_tracks_df.merge(merged_df.groupby('song_id', as_index=False).agg({'freq': ['count', 'mean']}).flatten_cols(),on='song_id')"
   ]
  },
  {
   "cell_type": "code",
   "execution_count": 40,
   "metadata": {},
   "outputs": [],
   "source": [
    "sorted_song = (song_ratings[['song_release', 'freq count', 'freq mean']].sort_values('freq count', ascending=False))"
   ]
  },
  {
   "cell_type": "code",
   "execution_count": 41,
   "metadata": {},
   "outputs": [
    {
     "data": {
      "text/html": [
       "<div>\n",
       "<style scoped>\n",
       "    .dataframe tbody tr th:only-of-type {\n",
       "        vertical-align: middle;\n",
       "    }\n",
       "\n",
       "    .dataframe tbody tr th {\n",
       "        vertical-align: top;\n",
       "    }\n",
       "\n",
       "    .dataframe thead th {\n",
       "        text-align: right;\n",
       "    }\n",
       "</style>\n",
       "<table border=\"1\" class=\"dataframe\">\n",
       "  <thead>\n",
       "    <tr style=\"text-align: right;\">\n",
       "      <th></th>\n",
       "      <th>song_release</th>\n",
       "      <th>freq count</th>\n",
       "      <th>freq mean</th>\n",
       "    </tr>\n",
       "  </thead>\n",
       "  <tbody>\n",
       "    <tr>\n",
       "      <th>132516</th>\n",
       "      <td>Sehr kosmisch</td>\n",
       "      <td>5043</td>\n",
       "      <td>3.857624</td>\n",
       "    </tr>\n",
       "    <tr>\n",
       "      <th>18379</th>\n",
       "      <td>Undo</td>\n",
       "      <td>4483</td>\n",
       "      <td>7.401071</td>\n",
       "    </tr>\n",
       "    <tr>\n",
       "      <th>73958</th>\n",
       "      <td>You're The One</td>\n",
       "      <td>4136</td>\n",
       "      <td>8.566731</td>\n",
       "    </tr>\n",
       "    <tr>\n",
       "      <th>67750</th>\n",
       "      <td>Use Somebody</td>\n",
       "      <td>3822</td>\n",
       "      <td>2.858713</td>\n",
       "    </tr>\n",
       "    <tr>\n",
       "      <th>67751</th>\n",
       "      <td>Use Somebody</td>\n",
       "      <td>3822</td>\n",
       "      <td>2.858713</td>\n",
       "    </tr>\n",
       "    <tr>\n",
       "      <th>25073</th>\n",
       "      <td>Dog Days Are Over (Radio Edit)</td>\n",
       "      <td>3780</td>\n",
       "      <td>3.777513</td>\n",
       "    </tr>\n",
       "    <tr>\n",
       "      <th>141909</th>\n",
       "      <td>Revelry</td>\n",
       "      <td>3672</td>\n",
       "      <td>6.633715</td>\n",
       "    </tr>\n",
       "    <tr>\n",
       "      <th>141474</th>\n",
       "      <td>Secrets</td>\n",
       "      <td>3430</td>\n",
       "      <td>3.612828</td>\n",
       "    </tr>\n",
       "    <tr>\n",
       "      <th>101714</th>\n",
       "      <td>Horn Concerto No. 4 in E flat K495: II. Romanc...</td>\n",
       "      <td>3272</td>\n",
       "      <td>5.230746</td>\n",
       "    </tr>\n",
       "    <tr>\n",
       "      <th>32541</th>\n",
       "      <td>Somebody To Love</td>\n",
       "      <td>3180</td>\n",
       "      <td>3.246541</td>\n",
       "    </tr>\n",
       "  </tbody>\n",
       "</table>\n",
       "</div>"
      ],
      "text/plain": [
       "                                             song_release  freq count  \\\n",
       "132516                                      Sehr kosmisch        5043   \n",
       "18379                                                Undo        4483   \n",
       "73958                                      You're The One        4136   \n",
       "67750                                        Use Somebody        3822   \n",
       "67751                                        Use Somebody        3822   \n",
       "25073                      Dog Days Are Over (Radio Edit)        3780   \n",
       "141909                                            Revelry        3672   \n",
       "141474                                            Secrets        3430   \n",
       "101714  Horn Concerto No. 4 in E flat K495: II. Romanc...        3272   \n",
       "32541                                    Somebody To Love        3180   \n",
       "\n",
       "        freq mean  \n",
       "132516   3.857624  \n",
       "18379    7.401071  \n",
       "73958    8.566731  \n",
       "67750    2.858713  \n",
       "67751    2.858713  \n",
       "25073    3.777513  \n",
       "141909   6.633715  \n",
       "141474   3.612828  \n",
       "101714   5.230746  \n",
       "32541    3.246541  "
      ]
     },
     "execution_count": 41,
     "metadata": {},
     "output_type": "execute_result"
    }
   ],
   "source": [
    "sorted_song.head(10)"
   ]
  },
  {
   "cell_type": "code",
   "execution_count": 42,
   "metadata": {},
   "outputs": [
    {
     "data": {
      "text/html": [
       "<div>\n",
       "<style scoped>\n",
       "    .dataframe tbody tr th:only-of-type {\n",
       "        vertical-align: middle;\n",
       "    }\n",
       "\n",
       "    .dataframe tbody tr th {\n",
       "        vertical-align: top;\n",
       "    }\n",
       "\n",
       "    .dataframe thead th {\n",
       "        text-align: right;\n",
       "    }\n",
       "</style>\n",
       "<table border=\"1\" class=\"dataframe\">\n",
       "  <thead>\n",
       "    <tr style=\"text-align: right;\">\n",
       "      <th></th>\n",
       "      <th>freq</th>\n",
       "    </tr>\n",
       "    <tr>\n",
       "      <th>artist_name</th>\n",
       "      <th></th>\n",
       "    </tr>\n",
       "  </thead>\n",
       "  <tbody>\n",
       "    <tr>\n",
       "      <th>Kings Of Leon</th>\n",
       "      <td>43775</td>\n",
       "    </tr>\n",
       "    <tr>\n",
       "      <th>Coldplay</th>\n",
       "      <td>36203</td>\n",
       "    </tr>\n",
       "    <tr>\n",
       "      <th>Dwight Yoakam</th>\n",
       "      <td>35688</td>\n",
       "    </tr>\n",
       "    <tr>\n",
       "      <th>BjÃ¶rk</th>\n",
       "      <td>35210</td>\n",
       "    </tr>\n",
       "    <tr>\n",
       "      <th>Justin Bieber</th>\n",
       "      <td>31295</td>\n",
       "    </tr>\n",
       "    <tr>\n",
       "      <th>Florence + The Machine</th>\n",
       "      <td>28224</td>\n",
       "    </tr>\n",
       "    <tr>\n",
       "      <th>Eminem</th>\n",
       "      <td>22914</td>\n",
       "    </tr>\n",
       "    <tr>\n",
       "      <th>Muse</th>\n",
       "      <td>22645</td>\n",
       "    </tr>\n",
       "    <tr>\n",
       "      <th>Taylor Swift</th>\n",
       "      <td>21844</td>\n",
       "    </tr>\n",
       "    <tr>\n",
       "      <th>Alliance Ethnik</th>\n",
       "      <td>21603</td>\n",
       "    </tr>\n",
       "  </tbody>\n",
       "</table>\n",
       "</div>"
      ],
      "text/plain": [
       "                         freq\n",
       "artist_name                  \n",
       "Kings Of Leon           43775\n",
       "Coldplay                36203\n",
       "Dwight Yoakam           35688\n",
       "BjÃ¶rk                  35210\n",
       "Justin Bieber           31295\n",
       "Florence + The Machine  28224\n",
       "Eminem                  22914\n",
       "Muse                    22645\n",
       "Taylor Swift            21844\n",
       "Alliance Ethnik         21603"
      ]
     },
     "execution_count": 42,
     "metadata": {},
     "output_type": "execute_result"
    }
   ],
   "source": [
    "merged_df[['user_id','artist_name', 'freq']].groupby('artist_name').sum().sort_values(by='freq', ascending=False)[:10]"
   ]
  },
  {
   "cell_type": "code",
   "execution_count": 43,
   "metadata": {},
   "outputs": [
    {
     "data": {
      "text/plain": [
       "artist_name\n",
       "Housecrafters                                        1\n",
       "Theola Kilgore                                       1\n",
       "Billy Grammer                                        1\n",
       "Billy Higgins_ Bob Berg_ Cedar Walton_ Tony Dumas    1\n",
       "Theophilus London                                    1\n",
       "Name: freq, dtype: int64"
      ]
     },
     "execution_count": 43,
     "metadata": {},
     "output_type": "execute_result"
    }
   ],
   "source": [
    "artist_popularity=merged_df.groupby(['artist_name'])['freq'].sum().sort_values()\n",
    "artist_popularity.head()"
   ]
  },
  {
   "cell_type": "code",
   "execution_count": 44,
   "metadata": {},
   "outputs": [
    {
     "data": {
      "text/plain": [
       "artist_name\n",
       "Housecrafters                                        1\n",
       "Theola Kilgore                                       1\n",
       "Billy Grammer                                        1\n",
       "Billy Higgins_ Bob Berg_ Cedar Walton_ Tony Dumas    1\n",
       "Theophilus London                                    1\n",
       "Name: freq, dtype: int64"
      ]
     },
     "execution_count": 44,
     "metadata": {},
     "output_type": "execute_result"
    }
   ],
   "source": [
    "artist_popularity.head()"
   ]
  },
  {
   "cell_type": "code",
   "execution_count": 45,
   "metadata": {},
   "outputs": [
    {
     "data": {
      "text/plain": [
       "artist_name\n",
       "Justin Bieber    31295\n",
       "BjÃ¶rk           35210\n",
       "Dwight Yoakam    35688\n",
       "Coldplay         36203\n",
       "Kings Of Leon    43775\n",
       "Name: freq, dtype: int64"
      ]
     },
     "execution_count": 45,
     "metadata": {},
     "output_type": "execute_result"
    }
   ],
   "source": [
    "artist_popularity.tail()"
   ]
  },
  {
   "cell_type": "code",
   "execution_count": 46,
   "metadata": {},
   "outputs": [],
   "source": [
    "sorted_artist_popularity = artist_popularity.sort_values(ascending=False )"
   ]
  },
  {
   "cell_type": "code",
   "execution_count": 47,
   "metadata": {},
   "outputs": [
    {
     "data": {
      "text/plain": [
       "artist_name\n",
       "Kings Of Leon    43775\n",
       "Coldplay         36203\n",
       "Dwight Yoakam    35688\n",
       "BjÃ¶rk           35210\n",
       "Justin Bieber    31295\n",
       "Name: freq, dtype: int64"
      ]
     },
     "execution_count": 47,
     "metadata": {},
     "output_type": "execute_result"
    }
   ],
   "source": [
    "sorted_artist_popularity.head()"
   ]
  },
  {
   "cell_type": "code",
   "execution_count": 48,
   "metadata": {},
   "outputs": [
    {
     "data": {
      "image/png": "[encoded data removed]",
      "text/plain": [
       "<Figure size 432x288 with 1 Axes>"
      ]
     },
     "metadata": {
      "needs_background": "light"
     },
     "output_type": "display_data"
    }
   ],
   "source": [
    "# plt.xlabel('Artist')\n",
    "# plt.ylabel('Popularity')\n",
    "sns.kdeplot(sorted_artist_popularity)\n",
    "plt.show()"
   ]
  },
  {
   "cell_type": "code",
   "execution_count": 49,
   "metadata": {},
   "outputs": [
    {
     "data": {
      "text/plain": [
       "song_release\n",
       "The Story Of Jazz               1\n",
       "Penny Dreadful                  1\n",
       "That Was Then                   1\n",
       "Penny Arcade                    1\n",
       "Hurt of Intention (Original)    1\n",
       "Name: freq, dtype: int64"
      ]
     },
     "execution_count": 49,
     "metadata": {},
     "output_type": "execute_result"
    }
   ],
   "source": [
    "song_popularity=merged_df.groupby(['song_release'])['freq'].sum().sort_values()\n",
    "song_popularity.head()"
   ]
  },
  {
   "cell_type": "code",
   "execution_count": 50,
   "metadata": {},
   "outputs": [
    {
     "data": {
      "text/plain": [
       "song_release\n",
       "Tive Sim                                                                7896\n",
       "The Gift                                                                7999\n",
       "Love Story                                                              8076\n",
       "Fireflies                                                               8155\n",
       "Hey_ Soul Sister                                                        8718\n",
       "SinceritÃ© Et Jalousie                                                  8972\n",
       "ReprÃ©sente                                                             9685\n",
       "Canada                                                                  9927\n",
       "Catch You Baby (Steve Pitron & Max Sanna Radio Edit)                   10515\n",
       "Invalid                                                                10794\n",
       "Use Somebody                                                           10926\n",
       "Somebody To Love                                                       11377\n",
       "Ain't Misbehavin                                                       11610\n",
       "Secrets                                                                12492\n",
       "Dog Days Are Over (Radio Edit)                                         14279\n",
       "Horn Concerto No. 4 in E flat K495: II. Romance (Andante cantabile)    17115\n",
       "Sehr kosmisch                                                          19454\n",
       "Revelry                                                                24359\n",
       "Undo                                                                   33179\n",
       "You're The One                                                         35738\n",
       "Name: freq, dtype: int64"
      ]
     },
     "execution_count": 50,
     "metadata": {},
     "output_type": "execute_result"
    }
   ],
   "source": [
    "song_popularity.tail(20)"
   ]
  },
  {
   "cell_type": "code",
   "execution_count": 51,
   "metadata": {},
   "outputs": [],
   "source": [
    "sorted_song_popularity = song_popularity.sort_values(ascending=False)"
   ]
  },
  {
   "cell_type": "code",
   "execution_count": 53,
   "metadata": {},
   "outputs": [
    {
     "data": {
      "text/plain": [
       "song_release\n",
       "You're The One                                                         35738\n",
       "Undo                                                                   33179\n",
       "Revelry                                                                24359\n",
       "Sehr kosmisch                                                          19454\n",
       "Horn Concerto No. 4 in E flat K495: II. Romance (Andante cantabile)    17115\n",
       "Name: freq, dtype: int64"
      ]
     },
     "execution_count": 53,
     "metadata": {},
     "output_type": "execute_result"
    }
   ],
   "source": [
    "sorted_song_popularity.head()"
   ]
  },
  {
   "cell_type": "code",
   "execution_count": 54,
   "metadata": {},
   "outputs": [
    {
     "data": {
      "image/png": "[encoded data removed]",
      "text/plain": [
       "<Figure size 432x288 with 1 Axes>"
      ]
     },
     "metadata": {
      "needs_background": "light"
     },
     "output_type": "display_data"
    }
   ],
   "source": [
    "sns.kdeplot(sorted_song_popularity)\n",
    "plt.show()"
   ]
  },
  {
   "cell_type": "code",
   "execution_count": 56,
   "metadata": {},
   "outputs": [
    {
     "data": {
      "text/plain": [
       "<AxesSubplot:xlabel='song_release'>"
      ]
     },
     "execution_count": 56,
     "metadata": {},
     "output_type": "execute_result"
    },
    {
     "data": {
      "image/png": "[encoded data removed]",
      "text/plain": [
       "<Figure size 432x288 with 1 Axes>"
      ]
     },
     "metadata": {
      "needs_background": "light"
     },
     "output_type": "display_data"
    }
   ],
   "source": [
    "sorted_song_popularity[:20].plot()"
   ]
  },
  {
   "cell_type": "code",
   "execution_count": 57,
   "metadata": {},
   "outputs": [
    {
     "data": {
      "text/plain": [
       "<AxesSubplot:xlabel='song_release'>"
      ]
     },
     "execution_count": 57,
     "metadata": {},
     "output_type": "execute_result"
    },
    {
     "data": {
      "image/png": "[encoded data removed]",
      "text/plain": [
       "<Figure size 432x288 with 1 Axes>"
      ]
     },
     "metadata": {
      "needs_background": "light"
     },
     "output_type": "display_data"
    }
   ],
   "source": [
    "sorted_song_popularity[:100].plot()"
   ]
  },
  {
   "cell_type": "code",
   "execution_count": 58,
   "metadata": {},
   "outputs": [
    {
     "data": {
      "text/plain": [
       "<AxesSubplot:>"
      ]
     },
     "execution_count": 58,
     "metadata": {},
     "output_type": "execute_result"
    },
    {
     "data": {
      "image/png": "[encoded data removed]",
      "text/plain": [
       "<Figure size 432x288 with 1 Axes>"
      ]
     },
     "metadata": {
      "needs_background": "light"
     },
     "output_type": "display_data"
    }
   ],
   "source": [
    "sorted_song_popularity.plot.box()"
   ]
  },
  {
   "cell_type": "code",
   "execution_count": null,
   "metadata": {},
   "outputs": [],
   "source": []
  }
 ],
 "metadata": {
  "kernelspec": {
   "display_name": "Python 3",
   "language": "python",
   "name": "python3"
  },
  "language_info": {
   "codemirror_mode": {
    "name": "ipython",
    "version": 3
   },
   "file_extension": ".py",
   "mimetype": "text/x-python",
   "name": "python",
   "nbconvert_exporter": "python",
   "pygments_lexer": "ipython3",
   "version": "3.7.3"
  }
 },
 "nbformat": 4,
 "nbformat_minor": 2
}
